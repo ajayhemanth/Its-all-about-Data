{
 "cells": [
  {
   "cell_type": "markdown",
   "metadata": {},
   "source": [
    "# <center>Multiclass Classification using Linear Regression</center>"
   ]
  },
  {
   "cell_type": "markdown",
   "metadata": {},
   "source": [
    "<img src=\"img/datasets.jpg\" width=\"80%\"/>"
   ]
  },
  {
   "cell_type": "code",
   "execution_count": 1,
   "metadata": {},
   "outputs": [
    {
     "name": "stdout",
     "output_type": "stream",
     "text": [
      "'data.frame':\t150 obs. of  5 variables:\n",
      " $ Sepal.Length: num  5.1 4.9 4.7 4.6 5 5.4 4.6 5 4.4 4.9 ...\n",
      " $ Sepal.Width : num  3.5 3 3.2 3.1 3.6 3.9 3.4 3.4 2.9 3.1 ...\n",
      " $ Petal.Length: num  1.4 1.4 1.3 1.5 1.4 1.7 1.4 1.5 1.4 1.5 ...\n",
      " $ Petal.Width : num  0.2 0.2 0.2 0.2 0.2 0.4 0.3 0.2 0.2 0.1 ...\n",
      " $ Species     : Factor w/ 3 levels \"setosa\",\"versicolor\",..: 1 1 1 1 1 1 1 1 1 1 ...\n"
     ]
    }
   ],
   "source": [
    "str(iris)"
   ]
  },
  {
   "cell_type": "code",
   "execution_count": 2,
   "metadata": {},
   "outputs": [
    {
     "data": {
      "text/html": [
       "<table class=\"dataframe\">\n",
       "<caption>A data.frame: 6 × 5</caption>\n",
       "<thead>\n",
       "\t<tr><th></th><th scope=col>Sepal.Length</th><th scope=col>Sepal.Width</th><th scope=col>Petal.Length</th><th scope=col>Petal.Width</th><th scope=col>Species</th></tr>\n",
       "\t<tr><th></th><th scope=col>&lt;dbl&gt;</th><th scope=col>&lt;dbl&gt;</th><th scope=col>&lt;dbl&gt;</th><th scope=col>&lt;dbl&gt;</th><th scope=col>&lt;fct&gt;</th></tr>\n",
       "</thead>\n",
       "<tbody>\n",
       "\t<tr><th scope=row>1</th><td>5.1</td><td>3.5</td><td>1.4</td><td>0.2</td><td>setosa</td></tr>\n",
       "\t<tr><th scope=row>2</th><td>4.9</td><td>3.0</td><td>1.4</td><td>0.2</td><td>setosa</td></tr>\n",
       "\t<tr><th scope=row>3</th><td>4.7</td><td>3.2</td><td>1.3</td><td>0.2</td><td>setosa</td></tr>\n",
       "\t<tr><th scope=row>4</th><td>4.6</td><td>3.1</td><td>1.5</td><td>0.2</td><td>setosa</td></tr>\n",
       "\t<tr><th scope=row>5</th><td>5.0</td><td>3.6</td><td>1.4</td><td>0.2</td><td>setosa</td></tr>\n",
       "\t<tr><th scope=row>6</th><td>5.4</td><td>3.9</td><td>1.7</td><td>0.4</td><td>setosa</td></tr>\n",
       "</tbody>\n",
       "</table>\n"
      ],
      "text/latex": [
       "A data.frame: 6 × 5\n",
       "\\begin{tabular}{r|lllll}\n",
       "  & Sepal.Length & Sepal.Width & Petal.Length & Petal.Width & Species\\\\\n",
       "  & <dbl> & <dbl> & <dbl> & <dbl> & <fct>\\\\\n",
       "\\hline\n",
       "\t1 & 5.1 & 3.5 & 1.4 & 0.2 & setosa\\\\\n",
       "\t2 & 4.9 & 3.0 & 1.4 & 0.2 & setosa\\\\\n",
       "\t3 & 4.7 & 3.2 & 1.3 & 0.2 & setosa\\\\\n",
       "\t4 & 4.6 & 3.1 & 1.5 & 0.2 & setosa\\\\\n",
       "\t5 & 5.0 & 3.6 & 1.4 & 0.2 & setosa\\\\\n",
       "\t6 & 5.4 & 3.9 & 1.7 & 0.4 & setosa\\\\\n",
       "\\end{tabular}\n"
      ],
      "text/markdown": [
       "\n",
       "A data.frame: 6 × 5\n",
       "\n",
       "| <!--/--> | Sepal.Length &lt;dbl&gt; | Sepal.Width &lt;dbl&gt; | Petal.Length &lt;dbl&gt; | Petal.Width &lt;dbl&gt; | Species &lt;fct&gt; |\n",
       "|---|---|---|---|---|---|\n",
       "| 1 | 5.1 | 3.5 | 1.4 | 0.2 | setosa |\n",
       "| 2 | 4.9 | 3.0 | 1.4 | 0.2 | setosa |\n",
       "| 3 | 4.7 | 3.2 | 1.3 | 0.2 | setosa |\n",
       "| 4 | 4.6 | 3.1 | 1.5 | 0.2 | setosa |\n",
       "| 5 | 5.0 | 3.6 | 1.4 | 0.2 | setosa |\n",
       "| 6 | 5.4 | 3.9 | 1.7 | 0.4 | setosa |\n",
       "\n"
      ],
      "text/plain": [
       "  Sepal.Length Sepal.Width Petal.Length Petal.Width Species\n",
       "1 5.1          3.5         1.4          0.2         setosa \n",
       "2 4.9          3.0         1.4          0.2         setosa \n",
       "3 4.7          3.2         1.3          0.2         setosa \n",
       "4 4.6          3.1         1.5          0.2         setosa \n",
       "5 5.0          3.6         1.4          0.2         setosa \n",
       "6 5.4          3.9         1.7          0.4         setosa "
      ]
     },
     "metadata": {},
     "output_type": "display_data"
    }
   ],
   "source": [
    "head(iris)"
   ]
  },
  {
   "cell_type": "markdown",
   "metadata": {},
   "source": [
    "## How Linear Regression works in background"
   ]
  },
  {
   "cell_type": "markdown",
   "metadata": {},
   "source": [
    "### Petal.Length ~ Sepal.Length + Petal.Width"
   ]
  },
  {
   "cell_type": "code",
   "execution_count": 3,
   "metadata": {},
   "outputs": [
    {
     "data": {
      "text/plain": [
       "\n",
       "Call:\n",
       "lm(formula = Petal.Length ~ Sepal.Length + Petal.Width, data = iris)\n",
       "\n",
       "Coefficients:\n",
       " (Intercept)  Sepal.Length   Petal.Width  \n",
       "     -1.5071        0.5423        1.7481  \n"
      ]
     },
     "metadata": {},
     "output_type": "display_data"
    }
   ],
   "source": [
    "lm(Petal.Length ~ Sepal.Length + Petal.Width, data=iris)"
   ]
  },
  {
   "cell_type": "markdown",
   "metadata": {},
   "source": [
    "$$ \\hat{Petal.Length} = \\beta_{intercept}+(\\beta_{Sepal\\_Length}*Sepal.Length)+(\\beta_{Petal.Width}*Petal.Width) $$"
   ]
  },
  {
   "cell_type": "markdown",
   "metadata": {},
   "source": [
    "### How were the betas estimated"
   ]
  },
  {
   "cell_type": "markdown",
   "metadata": {},
   "source": [
    "### [Ordinary Least Squares](https://en.wikipedia.org/wiki/Ordinary_least_squares) / [Gradient Descent](https://en.wikipedia.org/wiki/Gradient_descent)"
   ]
  },
  {
   "cell_type": "markdown",
   "metadata": {},
   "source": [
    "$X$ -- Explanatory Variables (Sepal.Length, Petal.Width)\n",
    "\n",
    "$Y$ -- Dependent Variables (Petal.Length)"
   ]
  },
  {
   "cell_type": "code",
   "execution_count": 4,
   "metadata": {},
   "outputs": [],
   "source": [
    "# \"Sepal.Length\" and \"Petal.Width\" columns are used to predict \"Petal.Length\"\n",
    "X = iris[ , c(\"Sepal.Length\", \"Petal.Width\") ]\n",
    "\n",
    "# 1s is used as column for the intercept coefficient\n",
    "X[ , 'intercept'] = 1"
   ]
  },
  {
   "cell_type": "code",
   "execution_count": 5,
   "metadata": {},
   "outputs": [
    {
     "data": {
      "text/html": [
       "<table class=\"dataframe\">\n",
       "<caption>A data.frame: 6 × 3</caption>\n",
       "<thead>\n",
       "\t<tr><th></th><th scope=col>Sepal.Length</th><th scope=col>Petal.Width</th><th scope=col>intercept</th></tr>\n",
       "\t<tr><th></th><th scope=col>&lt;dbl&gt;</th><th scope=col>&lt;dbl&gt;</th><th scope=col>&lt;dbl&gt;</th></tr>\n",
       "</thead>\n",
       "<tbody>\n",
       "\t<tr><th scope=row>1</th><td>5.1</td><td>0.2</td><td>1</td></tr>\n",
       "\t<tr><th scope=row>2</th><td>4.9</td><td>0.2</td><td>1</td></tr>\n",
       "\t<tr><th scope=row>3</th><td>4.7</td><td>0.2</td><td>1</td></tr>\n",
       "\t<tr><th scope=row>4</th><td>4.6</td><td>0.2</td><td>1</td></tr>\n",
       "\t<tr><th scope=row>5</th><td>5.0</td><td>0.2</td><td>1</td></tr>\n",
       "\t<tr><th scope=row>6</th><td>5.4</td><td>0.4</td><td>1</td></tr>\n",
       "</tbody>\n",
       "</table>\n"
      ],
      "text/latex": [
       "A data.frame: 6 × 3\n",
       "\\begin{tabular}{r|lll}\n",
       "  & Sepal.Length & Petal.Width & intercept\\\\\n",
       "  & <dbl> & <dbl> & <dbl>\\\\\n",
       "\\hline\n",
       "\t1 & 5.1 & 0.2 & 1\\\\\n",
       "\t2 & 4.9 & 0.2 & 1\\\\\n",
       "\t3 & 4.7 & 0.2 & 1\\\\\n",
       "\t4 & 4.6 & 0.2 & 1\\\\\n",
       "\t5 & 5.0 & 0.2 & 1\\\\\n",
       "\t6 & 5.4 & 0.4 & 1\\\\\n",
       "\\end{tabular}\n"
      ],
      "text/markdown": [
       "\n",
       "A data.frame: 6 × 3\n",
       "\n",
       "| <!--/--> | Sepal.Length &lt;dbl&gt; | Petal.Width &lt;dbl&gt; | intercept &lt;dbl&gt; |\n",
       "|---|---|---|---|\n",
       "| 1 | 5.1 | 0.2 | 1 |\n",
       "| 2 | 4.9 | 0.2 | 1 |\n",
       "| 3 | 4.7 | 0.2 | 1 |\n",
       "| 4 | 4.6 | 0.2 | 1 |\n",
       "| 5 | 5.0 | 0.2 | 1 |\n",
       "| 6 | 5.4 | 0.4 | 1 |\n",
       "\n"
      ],
      "text/plain": [
       "  Sepal.Length Petal.Width intercept\n",
       "1 5.1          0.2         1        \n",
       "2 4.9          0.2         1        \n",
       "3 4.7          0.2         1        \n",
       "4 4.6          0.2         1        \n",
       "5 5.0          0.2         1        \n",
       "6 5.4          0.4         1        "
      ]
     },
     "metadata": {},
     "output_type": "display_data"
    }
   ],
   "source": [
    "head(X)"
   ]
  },
  {
   "cell_type": "code",
   "execution_count": 6,
   "metadata": {},
   "outputs": [],
   "source": [
    "Y = iris[ , \"Petal.Length\" ]"
   ]
  },
  {
   "cell_type": "code",
   "execution_count": 7,
   "metadata": {},
   "outputs": [],
   "source": [
    "X = as.matrix(X)\n",
    "Y = as.matrix(Y)"
   ]
  },
  {
   "cell_type": "markdown",
   "metadata": {},
   "source": [
    "## Estimating the Coefficients\n",
    "\n",
    "## $ \\hat{\\beta} = (X^\\top X) ^{-1} X^\\top Y$ "
   ]
  },
  {
   "cell_type": "code",
   "execution_count": 8,
   "metadata": {},
   "outputs": [
    {
     "data": {
      "text/html": [
       "<table class=\"dataframe\">\n",
       "<caption>A matrix: 3 × 1 of type dbl</caption>\n",
       "<tbody>\n",
       "\t<tr><th scope=row>Sepal.Length</th><td> 0.5422556</td></tr>\n",
       "\t<tr><th scope=row>Petal.Width</th><td> 1.7481029</td></tr>\n",
       "\t<tr><th scope=row>intercept</th><td>-1.5071384</td></tr>\n",
       "</tbody>\n",
       "</table>\n"
      ],
      "text/latex": [
       "A matrix: 3 × 1 of type dbl\n",
       "\\begin{tabular}{r|l}\n",
       "\tSepal.Length &  0.5422556\\\\\n",
       "\tPetal.Width &  1.7481029\\\\\n",
       "\tintercept & -1.5071384\\\\\n",
       "\\end{tabular}\n"
      ],
      "text/markdown": [
       "\n",
       "A matrix: 3 × 1 of type dbl\n",
       "\n",
       "| Sepal.Length |  0.5422556 |\n",
       "| Petal.Width |  1.7481029 |\n",
       "| intercept | -1.5071384 |\n",
       "\n"
      ],
      "text/plain": [
       "             [,1]      \n",
       "Sepal.Length  0.5422556\n",
       "Petal.Width   1.7481029\n",
       "intercept    -1.5071384"
      ]
     },
     "metadata": {},
     "output_type": "display_data"
    }
   ],
   "source": [
    "beta = ( solve( t(X) %*% X ) %*% t(X) ) %*% Y\n",
    "beta"
   ]
  },
  {
   "cell_type": "code",
   "execution_count": 9,
   "metadata": {},
   "outputs": [
    {
     "data": {
      "text/plain": [
       "\n",
       "Call:\n",
       "lm(formula = Petal.Length ~ Sepal.Length + Petal.Width, data = iris)\n",
       "\n",
       "Coefficients:\n",
       " (Intercept)  Sepal.Length   Petal.Width  \n",
       "     -1.5071        0.5423        1.7481  \n"
      ]
     },
     "metadata": {},
     "output_type": "display_data"
    }
   ],
   "source": [
    "lm(Petal.Length ~ Sepal.Length + Petal.Width, data=iris)"
   ]
  },
  {
   "cell_type": "markdown",
   "metadata": {},
   "source": [
    "$$ \\hat{Petal.Length} = \\beta_{intercept}+(\\beta_{Sepal\\_Length}*Sepal.Length)+(\\beta_{Petal.Width}*Petal.Width) $$"
   ]
  },
  {
   "cell_type": "code",
   "execution_count": 10,
   "metadata": {},
   "outputs": [
    {
     "data": {
      "text/html": [
       "<style>\n",
       ".list-inline {list-style: none; margin:0; padding: 0}\n",
       ".list-inline>li {display: inline-block}\n",
       ".list-inline>li:not(:last-child)::after {content: \"\\00b7\"; padding: 0 .5ex}\n",
       "</style>\n",
       "<ol class=list-inline><li>1.60825</li><li>1.49979</li><li>1.39133</li><li>1.3371</li><li>1.55402</li><li>2.12056</li></ol>\n"
      ],
      "text/latex": [
       "\\begin{enumerate*}\n",
       "\\item 1.60825\n",
       "\\item 1.49979\n",
       "\\item 1.39133\n",
       "\\item 1.3371\n",
       "\\item 1.55402\n",
       "\\item 2.12056\n",
       "\\end{enumerate*}\n"
      ],
      "text/markdown": [
       "1. 1.60825\n",
       "2. 1.49979\n",
       "3. 1.39133\n",
       "4. 1.3371\n",
       "5. 1.55402\n",
       "6. 2.12056\n",
       "\n",
       "\n"
      ],
      "text/plain": [
       "[1] 1.60825 1.49979 1.39133 1.33710 1.55402 2.12056"
      ]
     },
     "metadata": {},
     "output_type": "display_data"
    }
   ],
   "source": [
    "yhat = -1.5071 + 0.5423*X[,'Sepal.Length'] + 1.7481*X[,'Petal.Width']\n",
    "head(yhat)"
   ]
  },
  {
   "cell_type": "markdown",
   "metadata": {},
   "source": [
    "## $$ \\hat{Y} = A \\hat{\\beta} $$\n",
    "<center>A -- new data point(s) to be predicted</center>"
   ]
  },
  {
   "cell_type": "code",
   "execution_count": 11,
   "metadata": {},
   "outputs": [
    {
     "data": {
      "text/html": [
       "<table class=\"dataframe\">\n",
       "<caption>A matrix: 6 × 1 of type dbl</caption>\n",
       "<tbody>\n",
       "\t<tr><td>1.607986</td></tr>\n",
       "\t<tr><td>1.499535</td></tr>\n",
       "\t<tr><td>1.391084</td></tr>\n",
       "\t<tr><td>1.336858</td></tr>\n",
       "\t<tr><td>1.553760</td></tr>\n",
       "\t<tr><td>2.120283</td></tr>\n",
       "</tbody>\n",
       "</table>\n"
      ],
      "text/latex": [
       "A matrix: 6 × 1 of type dbl\n",
       "\\begin{tabular}{l}\n",
       "\t 1.607986\\\\\n",
       "\t 1.499535\\\\\n",
       "\t 1.391084\\\\\n",
       "\t 1.336858\\\\\n",
       "\t 1.553760\\\\\n",
       "\t 2.120283\\\\\n",
       "\\end{tabular}\n"
      ],
      "text/markdown": [
       "\n",
       "A matrix: 6 × 1 of type dbl\n",
       "\n",
       "| 1.607986 |\n",
       "| 1.499535 |\n",
       "| 1.391084 |\n",
       "| 1.336858 |\n",
       "| 1.553760 |\n",
       "| 2.120283 |\n",
       "\n"
      ],
      "text/plain": [
       "     [,1]    \n",
       "[1,] 1.607986\n",
       "[2,] 1.499535\n",
       "[3,] 1.391084\n",
       "[4,] 1.336858\n",
       "[5,] 1.553760\n",
       "[6,] 2.120283"
      ]
     },
     "metadata": {},
     "output_type": "display_data"
    }
   ],
   "source": [
    "yhat = X %*% beta\n",
    "head(yhat)"
   ]
  },
  {
   "cell_type": "markdown",
   "metadata": {},
   "source": [
    "\n",
    "# Multiclass classification of iris dataset using Linear Regression (OLS)"
   ]
  },
  {
   "cell_type": "markdown",
   "metadata": {},
   "source": [
    "### Species ~ Petal.Length + Petal.Width"
   ]
  },
  {
   "cell_type": "code",
   "execution_count": 12,
   "metadata": {},
   "outputs": [
    {
     "data": {
      "image/png": "[encoded data removed]",
      "text/plain": [
       "plot without title"
      ]
     },
     "metadata": {
      "image/png": {
       "height": 420,
       "width": 420
      }
     },
     "output_type": "display_data"
    }
   ],
   "source": [
    "plot(iris$Petal.Length, iris$Petal.Width, col=iris$Species, pch=15)"
   ]
  },
  {
   "cell_type": "markdown",
   "metadata": {},
   "source": [
    "### Species ~ Petal.Length + Petal.Width"
   ]
  },
  {
   "cell_type": "markdown",
   "metadata": {},
   "source": [
    "$X$ -- Explanatory Variables (Petal.Length, Petal.Width)\n",
    "\n",
    "$Y$ -- Dependent Variables (Species)"
   ]
  },
  {
   "cell_type": "code",
   "execution_count": 13,
   "metadata": {},
   "outputs": [
    {
     "data": {
      "text/html": [
       "<table class=\"dataframe\">\n",
       "<caption>A matrix: 6 × 3 of type dbl</caption>\n",
       "<thead>\n",
       "\t<tr><th scope=col>Petal.Length</th><th scope=col>Petal.Width</th><th scope=col>intercept</th></tr>\n",
       "</thead>\n",
       "<tbody>\n",
       "\t<tr><td>1.4</td><td>0.2</td><td>1</td></tr>\n",
       "\t<tr><td>1.4</td><td>0.2</td><td>1</td></tr>\n",
       "\t<tr><td>1.3</td><td>0.2</td><td>1</td></tr>\n",
       "\t<tr><td>1.5</td><td>0.2</td><td>1</td></tr>\n",
       "\t<tr><td>1.4</td><td>0.2</td><td>1</td></tr>\n",
       "\t<tr><td>1.7</td><td>0.4</td><td>1</td></tr>\n",
       "</tbody>\n",
       "</table>\n"
      ],
      "text/latex": [
       "A matrix: 6 × 3 of type dbl\n",
       "\\begin{tabular}{lll}\n",
       " Petal.Length & Petal.Width & intercept\\\\\n",
       "\\hline\n",
       "\t 1.4 & 0.2 & 1\\\\\n",
       "\t 1.4 & 0.2 & 1\\\\\n",
       "\t 1.3 & 0.2 & 1\\\\\n",
       "\t 1.5 & 0.2 & 1\\\\\n",
       "\t 1.4 & 0.2 & 1\\\\\n",
       "\t 1.7 & 0.4 & 1\\\\\n",
       "\\end{tabular}\n"
      ],
      "text/markdown": [
       "\n",
       "A matrix: 6 × 3 of type dbl\n",
       "\n",
       "| Petal.Length | Petal.Width | intercept |\n",
       "|---|---|---|\n",
       "| 1.4 | 0.2 | 1 |\n",
       "| 1.4 | 0.2 | 1 |\n",
       "| 1.3 | 0.2 | 1 |\n",
       "| 1.5 | 0.2 | 1 |\n",
       "| 1.4 | 0.2 | 1 |\n",
       "| 1.7 | 0.4 | 1 |\n",
       "\n"
      ],
      "text/plain": [
       "     Petal.Length Petal.Width intercept\n",
       "[1,] 1.4          0.2         1        \n",
       "[2,] 1.4          0.2         1        \n",
       "[3,] 1.3          0.2         1        \n",
       "[4,] 1.5          0.2         1        \n",
       "[5,] 1.4          0.2         1        \n",
       "[6,] 1.7          0.4         1        "
      ]
     },
     "metadata": {},
     "output_type": "display_data"
    }
   ],
   "source": [
    "X = iris[ , c(\"Petal.Length\", \"Petal.Width\") ]\n",
    "X[,\"intercept\"] = 1\n",
    "X = as.matrix(X)\n",
    "head(X)"
   ]
  },
  {
   "cell_type": "markdown",
   "metadata": {},
   "source": [
    "$X$ -- Explanatory Variables (Petal.Length, Petal.Width)\n",
    "\n",
    "$Y$ -- Dependent Variables (Species)"
   ]
  },
  {
   "cell_type": "markdown",
   "metadata": {},
   "source": [
    "#### [Dummy Variable](https://en.wikipedia.org/wiki/Dummy_variable_(statistics))"
   ]
  },
  {
   "cell_type": "markdown",
   "metadata": {},
   "source": [
    "## <center>Binary Class Matrix</center>\n",
    "<img src=\"img/categorical.png\" width=\"50%\"/>"
   ]
  },
  {
   "cell_type": "code",
   "execution_count": 14,
   "metadata": {},
   "outputs": [
    {
     "data": {
      "text/html": [
       "<table class=\"dataframe\">\n",
       "<caption>A matrix: 150 × 3 of type dbl</caption>\n",
       "<thead>\n",
       "\t<tr><th scope=col>X.iris.Species.....setosa.....1</th><th scope=col>X.iris.Species.....versicolor.....1</th><th scope=col>X.iris.Species.....virginica.....1</th></tr>\n",
       "</thead>\n",
       "<tbody>\n",
       "\t<tr><td>1</td><td>0</td><td>0</td></tr>\n",
       "\t<tr><td>1</td><td>0</td><td>0</td></tr>\n",
       "\t<tr><td>1</td><td>0</td><td>0</td></tr>\n",
       "\t<tr><td>1</td><td>0</td><td>0</td></tr>\n",
       "\t<tr><td>1</td><td>0</td><td>0</td></tr>\n",
       "\t<tr><td>1</td><td>0</td><td>0</td></tr>\n",
       "\t<tr><td>1</td><td>0</td><td>0</td></tr>\n",
       "\t<tr><td>1</td><td>0</td><td>0</td></tr>\n",
       "\t<tr><td>1</td><td>0</td><td>0</td></tr>\n",
       "\t<tr><td>1</td><td>0</td><td>0</td></tr>\n",
       "\t<tr><td>1</td><td>0</td><td>0</td></tr>\n",
       "\t<tr><td>1</td><td>0</td><td>0</td></tr>\n",
       "\t<tr><td>1</td><td>0</td><td>0</td></tr>\n",
       "\t<tr><td>1</td><td>0</td><td>0</td></tr>\n",
       "\t<tr><td>1</td><td>0</td><td>0</td></tr>\n",
       "\t<tr><td>1</td><td>0</td><td>0</td></tr>\n",
       "\t<tr><td>1</td><td>0</td><td>0</td></tr>\n",
       "\t<tr><td>1</td><td>0</td><td>0</td></tr>\n",
       "\t<tr><td>1</td><td>0</td><td>0</td></tr>\n",
       "\t<tr><td>1</td><td>0</td><td>0</td></tr>\n",
       "\t<tr><td>1</td><td>0</td><td>0</td></tr>\n",
       "\t<tr><td>1</td><td>0</td><td>0</td></tr>\n",
       "\t<tr><td>1</td><td>0</td><td>0</td></tr>\n",
       "\t<tr><td>1</td><td>0</td><td>0</td></tr>\n",
       "\t<tr><td>1</td><td>0</td><td>0</td></tr>\n",
       "\t<tr><td>1</td><td>0</td><td>0</td></tr>\n",
       "\t<tr><td>1</td><td>0</td><td>0</td></tr>\n",
       "\t<tr><td>1</td><td>0</td><td>0</td></tr>\n",
       "\t<tr><td>1</td><td>0</td><td>0</td></tr>\n",
       "\t<tr><td>1</td><td>0</td><td>0</td></tr>\n",
       "\t<tr><td>...</td><td>...</td><td>...</td></tr>\n",
       "\t<tr><td>0</td><td>0</td><td>1</td></tr>\n",
       "\t<tr><td>0</td><td>0</td><td>1</td></tr>\n",
       "\t<tr><td>0</td><td>0</td><td>1</td></tr>\n",
       "\t<tr><td>0</td><td>0</td><td>1</td></tr>\n",
       "\t<tr><td>0</td><td>0</td><td>1</td></tr>\n",
       "\t<tr><td>0</td><td>0</td><td>1</td></tr>\n",
       "\t<tr><td>0</td><td>0</td><td>1</td></tr>\n",
       "\t<tr><td>0</td><td>0</td><td>1</td></tr>\n",
       "\t<tr><td>0</td><td>0</td><td>1</td></tr>\n",
       "\t<tr><td>0</td><td>0</td><td>1</td></tr>\n",
       "\t<tr><td>0</td><td>0</td><td>1</td></tr>\n",
       "\t<tr><td>0</td><td>0</td><td>1</td></tr>\n",
       "\t<tr><td>0</td><td>0</td><td>1</td></tr>\n",
       "\t<tr><td>0</td><td>0</td><td>1</td></tr>\n",
       "\t<tr><td>0</td><td>0</td><td>1</td></tr>\n",
       "\t<tr><td>0</td><td>0</td><td>1</td></tr>\n",
       "\t<tr><td>0</td><td>0</td><td>1</td></tr>\n",
       "\t<tr><td>0</td><td>0</td><td>1</td></tr>\n",
       "\t<tr><td>0</td><td>0</td><td>1</td></tr>\n",
       "\t<tr><td>0</td><td>0</td><td>1</td></tr>\n",
       "\t<tr><td>0</td><td>0</td><td>1</td></tr>\n",
       "\t<tr><td>0</td><td>0</td><td>1</td></tr>\n",
       "\t<tr><td>0</td><td>0</td><td>1</td></tr>\n",
       "\t<tr><td>0</td><td>0</td><td>1</td></tr>\n",
       "\t<tr><td>0</td><td>0</td><td>1</td></tr>\n",
       "\t<tr><td>0</td><td>0</td><td>1</td></tr>\n",
       "\t<tr><td>0</td><td>0</td><td>1</td></tr>\n",
       "\t<tr><td>0</td><td>0</td><td>1</td></tr>\n",
       "\t<tr><td>0</td><td>0</td><td>1</td></tr>\n",
       "\t<tr><td>0</td><td>0</td><td>1</td></tr>\n",
       "</tbody>\n",
       "</table>\n"
      ],
      "text/latex": [
       "A matrix: 150 × 3 of type dbl\n",
       "\\begin{tabular}{lll}\n",
       " X.iris.Species.....setosa.....1 & X.iris.Species.....versicolor.....1 & X.iris.Species.....virginica.....1\\\\\n",
       "\\hline\n",
       "\t 1 & 0 & 0\\\\\n",
       "\t 1 & 0 & 0\\\\\n",
       "\t 1 & 0 & 0\\\\\n",
       "\t 1 & 0 & 0\\\\\n",
       "\t 1 & 0 & 0\\\\\n",
       "\t 1 & 0 & 0\\\\\n",
       "\t 1 & 0 & 0\\\\\n",
       "\t 1 & 0 & 0\\\\\n",
       "\t 1 & 0 & 0\\\\\n",
       "\t 1 & 0 & 0\\\\\n",
       "\t 1 & 0 & 0\\\\\n",
       "\t 1 & 0 & 0\\\\\n",
       "\t 1 & 0 & 0\\\\\n",
       "\t 1 & 0 & 0\\\\\n",
       "\t 1 & 0 & 0\\\\\n",
       "\t 1 & 0 & 0\\\\\n",
       "\t 1 & 0 & 0\\\\\n",
       "\t 1 & 0 & 0\\\\\n",
       "\t 1 & 0 & 0\\\\\n",
       "\t 1 & 0 & 0\\\\\n",
       "\t 1 & 0 & 0\\\\\n",
       "\t 1 & 0 & 0\\\\\n",
       "\t 1 & 0 & 0\\\\\n",
       "\t 1 & 0 & 0\\\\\n",
       "\t 1 & 0 & 0\\\\\n",
       "\t 1 & 0 & 0\\\\\n",
       "\t 1 & 0 & 0\\\\\n",
       "\t 1 & 0 & 0\\\\\n",
       "\t 1 & 0 & 0\\\\\n",
       "\t 1 & 0 & 0\\\\\n",
       "\t ... & ... & ...\\\\\n",
       "\t 0 & 0 & 1\\\\\n",
       "\t 0 & 0 & 1\\\\\n",
       "\t 0 & 0 & 1\\\\\n",
       "\t 0 & 0 & 1\\\\\n",
       "\t 0 & 0 & 1\\\\\n",
       "\t 0 & 0 & 1\\\\\n",
       "\t 0 & 0 & 1\\\\\n",
       "\t 0 & 0 & 1\\\\\n",
       "\t 0 & 0 & 1\\\\\n",
       "\t 0 & 0 & 1\\\\\n",
       "\t 0 & 0 & 1\\\\\n",
       "\t 0 & 0 & 1\\\\\n",
       "\t 0 & 0 & 1\\\\\n",
       "\t 0 & 0 & 1\\\\\n",
       "\t 0 & 0 & 1\\\\\n",
       "\t 0 & 0 & 1\\\\\n",
       "\t 0 & 0 & 1\\\\\n",
       "\t 0 & 0 & 1\\\\\n",
       "\t 0 & 0 & 1\\\\\n",
       "\t 0 & 0 & 1\\\\\n",
       "\t 0 & 0 & 1\\\\\n",
       "\t 0 & 0 & 1\\\\\n",
       "\t 0 & 0 & 1\\\\\n",
       "\t 0 & 0 & 1\\\\\n",
       "\t 0 & 0 & 1\\\\\n",
       "\t 0 & 0 & 1\\\\\n",
       "\t 0 & 0 & 1\\\\\n",
       "\t 0 & 0 & 1\\\\\n",
       "\t 0 & 0 & 1\\\\\n",
       "\t 0 & 0 & 1\\\\\n",
       "\\end{tabular}\n"
      ],
      "text/markdown": [
       "\n",
       "A matrix: 150 × 3 of type dbl\n",
       "\n",
       "| X.iris.Species.....setosa.....1 | X.iris.Species.....versicolor.....1 | X.iris.Species.....virginica.....1 |\n",
       "|---|---|---|\n",
       "| 1 | 0 | 0 |\n",
       "| 1 | 0 | 0 |\n",
       "| 1 | 0 | 0 |\n",
       "| 1 | 0 | 0 |\n",
       "| 1 | 0 | 0 |\n",
       "| 1 | 0 | 0 |\n",
       "| 1 | 0 | 0 |\n",
       "| 1 | 0 | 0 |\n",
       "| 1 | 0 | 0 |\n",
       "| 1 | 0 | 0 |\n",
       "| 1 | 0 | 0 |\n",
       "| 1 | 0 | 0 |\n",
       "| 1 | 0 | 0 |\n",
       "| 1 | 0 | 0 |\n",
       "| 1 | 0 | 0 |\n",
       "| 1 | 0 | 0 |\n",
       "| 1 | 0 | 0 |\n",
       "| 1 | 0 | 0 |\n",
       "| 1 | 0 | 0 |\n",
       "| 1 | 0 | 0 |\n",
       "| 1 | 0 | 0 |\n",
       "| 1 | 0 | 0 |\n",
       "| 1 | 0 | 0 |\n",
       "| 1 | 0 | 0 |\n",
       "| 1 | 0 | 0 |\n",
       "| 1 | 0 | 0 |\n",
       "| 1 | 0 | 0 |\n",
       "| 1 | 0 | 0 |\n",
       "| 1 | 0 | 0 |\n",
       "| 1 | 0 | 0 |\n",
       "| ... | ... | ... |\n",
       "| 0 | 0 | 1 |\n",
       "| 0 | 0 | 1 |\n",
       "| 0 | 0 | 1 |\n",
       "| 0 | 0 | 1 |\n",
       "| 0 | 0 | 1 |\n",
       "| 0 | 0 | 1 |\n",
       "| 0 | 0 | 1 |\n",
       "| 0 | 0 | 1 |\n",
       "| 0 | 0 | 1 |\n",
       "| 0 | 0 | 1 |\n",
       "| 0 | 0 | 1 |\n",
       "| 0 | 0 | 1 |\n",
       "| 0 | 0 | 1 |\n",
       "| 0 | 0 | 1 |\n",
       "| 0 | 0 | 1 |\n",
       "| 0 | 0 | 1 |\n",
       "| 0 | 0 | 1 |\n",
       "| 0 | 0 | 1 |\n",
       "| 0 | 0 | 1 |\n",
       "| 0 | 0 | 1 |\n",
       "| 0 | 0 | 1 |\n",
       "| 0 | 0 | 1 |\n",
       "| 0 | 0 | 1 |\n",
       "| 0 | 0 | 1 |\n",
       "| 0 | 0 | 1 |\n",
       "| 0 | 0 | 1 |\n",
       "| 0 | 0 | 1 |\n",
       "| 0 | 0 | 1 |\n",
       "| 0 | 0 | 1 |\n",
       "| 0 | 0 | 1 |\n",
       "\n"
      ],
      "text/plain": [
       "      X.iris.Species.....setosa.....1 X.iris.Species.....versicolor.....1\n",
       " [1,] 1                               0                                  \n",
       " [2,] 1                               0                                  \n",
       " [3,] 1                               0                                  \n",
       " [4,] 1                               0                                  \n",
       " [5,] 1                               0                                  \n",
       " [6,] 1                               0                                  \n",
       " [7,] 1                               0                                  \n",
       " [8,] 1                               0                                  \n",
       " [9,] 1                               0                                  \n",
       "[10,] 1                               0                                  \n",
       "[11,] 1                               0                                  \n",
       "[12,] 1                               0                                  \n",
       "[13,] 1                               0                                  \n",
       "[14,] 1                               0                                  \n",
       "[15,] 1                               0                                  \n",
       "[16,] 1                               0                                  \n",
       "[17,] 1                               0                                  \n",
       "[18,] 1                               0                                  \n",
       "[19,] 1                               0                                  \n",
       "[20,] 1                               0                                  \n",
       "[21,] 1                               0                                  \n",
       "[22,] 1                               0                                  \n",
       "[23,] 1                               0                                  \n",
       "[24,] 1                               0                                  \n",
       "[25,] 1                               0                                  \n",
       "[26,] 1                               0                                  \n",
       "[27,] 1                               0                                  \n",
       "[28,] 1                               0                                  \n",
       "[29,] 1                               0                                  \n",
       "[30,] 1                               0                                  \n",
       "[31,] ...                             ...                                \n",
       "[32,] 0                               0                                  \n",
       "[33,] 0                               0                                  \n",
       "[34,] 0                               0                                  \n",
       "[35,] 0                               0                                  \n",
       "[36,] 0                               0                                  \n",
       "[37,] 0                               0                                  \n",
       "[38,] 0                               0                                  \n",
       "[39,] 0                               0                                  \n",
       "[40,] 0                               0                                  \n",
       "[41,] 0                               0                                  \n",
       "[42,] 0                               0                                  \n",
       "[43,] 0                               0                                  \n",
       "[44,] 0                               0                                  \n",
       "[45,] 0                               0                                  \n",
       "[46,] 0                               0                                  \n",
       "[47,] 0                               0                                  \n",
       "[48,] 0                               0                                  \n",
       "[49,] 0                               0                                  \n",
       "[50,] 0                               0                                  \n",
       "[51,] 0                               0                                  \n",
       "[52,] 0                               0                                  \n",
       "[53,] 0                               0                                  \n",
       "[54,] 0                               0                                  \n",
       "[55,] 0                               0                                  \n",
       "[56,] 0                               0                                  \n",
       "[57,] 0                               0                                  \n",
       "[58,] 0                               0                                  \n",
       "[59,] 0                               0                                  \n",
       "[60,] 0                               0                                  \n",
       "[61,] 0                               0                                  \n",
       "      X.iris.Species.....virginica.....1\n",
       " [1,] 0                                 \n",
       " [2,] 0                                 \n",
       " [3,] 0                                 \n",
       " [4,] 0                                 \n",
       " [5,] 0                                 \n",
       " [6,] 0                                 \n",
       " [7,] 0                                 \n",
       " [8,] 0                                 \n",
       " [9,] 0                                 \n",
       "[10,] 0                                 \n",
       "[11,] 0                                 \n",
       "[12,] 0                                 \n",
       "[13,] 0                                 \n",
       "[14,] 0                                 \n",
       "[15,] 0                                 \n",
       "[16,] 0                                 \n",
       "[17,] 0                                 \n",
       "[18,] 0                                 \n",
       "[19,] 0                                 \n",
       "[20,] 0                                 \n",
       "[21,] 0                                 \n",
       "[22,] 0                                 \n",
       "[23,] 0                                 \n",
       "[24,] 0                                 \n",
       "[25,] 0                                 \n",
       "[26,] 0                                 \n",
       "[27,] 0                                 \n",
       "[28,] 0                                 \n",
       "[29,] 0                                 \n",
       "[30,] 0                                 \n",
       "[31,] ...                               \n",
       "[32,] 1                                 \n",
       "[33,] 1                                 \n",
       "[34,] 1                                 \n",
       "[35,] 1                                 \n",
       "[36,] 1                                 \n",
       "[37,] 1                                 \n",
       "[38,] 1                                 \n",
       "[39,] 1                                 \n",
       "[40,] 1                                 \n",
       "[41,] 1                                 \n",
       "[42,] 1                                 \n",
       "[43,] 1                                 \n",
       "[44,] 1                                 \n",
       "[45,] 1                                 \n",
       "[46,] 1                                 \n",
       "[47,] 1                                 \n",
       "[48,] 1                                 \n",
       "[49,] 1                                 \n",
       "[50,] 1                                 \n",
       "[51,] 1                                 \n",
       "[52,] 1                                 \n",
       "[53,] 1                                 \n",
       "[54,] 1                                 \n",
       "[55,] 1                                 \n",
       "[56,] 1                                 \n",
       "[57,] 1                                 \n",
       "[58,] 1                                 \n",
       "[59,] 1                                 \n",
       "[60,] 1                                 \n",
       "[61,] 1                                 "
      ]
     },
     "metadata": {},
     "output_type": "display_data"
    }
   ],
   "source": [
    "Y = as.matrix(data.frame((iris$Species==\"setosa\")*1, (iris$Species==\"versicolor\")*1, (iris$Species==\"virginica\")*1 ))\n",
    "Y"
   ]
  },
  {
   "cell_type": "markdown",
   "metadata": {},
   "source": [
    "## Estimating the Coefficients\n",
    "\n",
    "## $ \\hat{\\beta} = (X^\\top X) ^{-1} X^\\top Y$ "
   ]
  },
  {
   "cell_type": "code",
   "execution_count": 15,
   "metadata": {},
   "outputs": [
    {
     "data": {
      "text/html": [
       "<table class=\"dataframe\">\n",
       "<caption>A matrix: 3 × 3 of type dbl</caption>\n",
       "<thead>\n",
       "\t<tr><th></th><th scope=col>X.iris.Species.....setosa.....1</th><th scope=col>X.iris.Species.....versicolor.....1</th><th scope=col>X.iris.Species.....virginica.....1</th></tr>\n",
       "</thead>\n",
       "<tbody>\n",
       "\t<tr><th scope=row>Petal.Length</th><td>-0.25132905</td><td> 0.3243352</td><td>-0.07300611</td></tr>\n",
       "\t<tr><th scope=row>Petal.Width</th><td> 0.00983426</td><td>-0.6500895</td><td> 0.64025527</td></tr>\n",
       "\t<tr><th scope=row>intercept</th><td> 1.26603335</td><td>-0.1058442</td><td>-0.16018919</td></tr>\n",
       "</tbody>\n",
       "</table>\n"
      ],
      "text/latex": [
       "A matrix: 3 × 3 of type dbl\n",
       "\\begin{tabular}{r|lll}\n",
       "  & X.iris.Species.....setosa.....1 & X.iris.Species.....versicolor.....1 & X.iris.Species.....virginica.....1\\\\\n",
       "\\hline\n",
       "\tPetal.Length & -0.25132905 &  0.3243352 & -0.07300611\\\\\n",
       "\tPetal.Width &  0.00983426 & -0.6500895 &  0.64025527\\\\\n",
       "\tintercept &  1.26603335 & -0.1058442 & -0.16018919\\\\\n",
       "\\end{tabular}\n"
      ],
      "text/markdown": [
       "\n",
       "A matrix: 3 × 3 of type dbl\n",
       "\n",
       "| <!--/--> | X.iris.Species.....setosa.....1 | X.iris.Species.....versicolor.....1 | X.iris.Species.....virginica.....1 |\n",
       "|---|---|---|---|\n",
       "| Petal.Length | -0.25132905 |  0.3243352 | -0.07300611 |\n",
       "| Petal.Width |  0.00983426 | -0.6500895 |  0.64025527 |\n",
       "| intercept |  1.26603335 | -0.1058442 | -0.16018919 |\n",
       "\n"
      ],
      "text/plain": [
       "             X.iris.Species.....setosa.....1\n",
       "Petal.Length -0.25132905                    \n",
       "Petal.Width   0.00983426                    \n",
       "intercept     1.26603335                    \n",
       "             X.iris.Species.....versicolor.....1\n",
       "Petal.Length  0.3243352                         \n",
       "Petal.Width  -0.6500895                         \n",
       "intercept    -0.1058442                         \n",
       "             X.iris.Species.....virginica.....1\n",
       "Petal.Length -0.07300611                       \n",
       "Petal.Width   0.64025527                       \n",
       "intercept    -0.16018919                       "
      ]
     },
     "metadata": {},
     "output_type": "display_data"
    }
   ],
   "source": [
    "beta = ( solve( t(X) %*% X ) %*% t(X) ) %*% Y\n",
    "beta"
   ]
  },
  {
   "cell_type": "markdown",
   "metadata": {},
   "source": [
    "## $$ \\hat{Y} = A \\hat{\\beta} $$\n",
    "<center>A -- new data point(s) to be predicted</center>"
   ]
  },
  {
   "cell_type": "code",
   "execution_count": 16,
   "metadata": {},
   "outputs": [
    {
     "data": {
      "text/html": [
       "<table class=\"dataframe\">\n",
       "<caption>A matrix: 150 × 3 of type dbl</caption>\n",
       "<thead>\n",
       "\t<tr><th scope=col>X.iris.Species.....setosa.....1</th><th scope=col>X.iris.Species.....versicolor.....1</th><th scope=col>X.iris.Species.....virginica.....1</th></tr>\n",
       "</thead>\n",
       "<tbody>\n",
       "\t<tr><td>0.9161395</td><td>0.21820716</td><td>-0.134346695</td></tr>\n",
       "\t<tr><td>0.9161395</td><td>0.21820716</td><td>-0.134346695</td></tr>\n",
       "\t<tr><td>0.9412724</td><td>0.18577364</td><td>-0.127046084</td></tr>\n",
       "\t<tr><td>0.8910066</td><td>0.25064068</td><td>-0.141647306</td></tr>\n",
       "\t<tr><td>0.9161395</td><td>0.21820716</td><td>-0.134346695</td></tr>\n",
       "\t<tr><td>0.8427077</td><td>0.18548980</td><td>-0.028197473</td></tr>\n",
       "\t<tr><td>0.9171230</td><td>0.15319821</td><td>-0.070321167</td></tr>\n",
       "\t<tr><td>0.8910066</td><td>0.25064068</td><td>-0.141647306</td></tr>\n",
       "\t<tr><td>0.9161395</td><td>0.21820716</td><td>-0.134346695</td></tr>\n",
       "\t<tr><td>0.8900232</td><td>0.31564963</td><td>-0.205672833</td></tr>\n",
       "\t<tr><td>0.8910066</td><td>0.25064068</td><td>-0.141647306</td></tr>\n",
       "\t<tr><td>0.8658737</td><td>0.28307419</td><td>-0.148947917</td></tr>\n",
       "\t<tr><td>0.9151561</td><td>0.28321611</td><td>-0.198372222</td></tr>\n",
       "\t<tr><td>0.9905548</td><td>0.18591557</td><td>-0.176470389</td></tr>\n",
       "\t<tr><td>0.9664053</td><td>0.15334013</td><td>-0.119745473</td></tr>\n",
       "\t<tr><td>0.8929735</td><td>0.12062277</td><td>-0.013596251</td></tr>\n",
       "\t<tr><td>0.9432393</td><td>0.05575574</td><td> 0.001004971</td></tr>\n",
       "\t<tr><td>0.9171230</td><td>0.15319821</td><td>-0.070321167</td></tr>\n",
       "\t<tr><td>0.8417242</td><td>0.25049876</td><td>-0.092223001</td></tr>\n",
       "\t<tr><td>0.8919901</td><td>0.18563172</td><td>-0.077621778</td></tr>\n",
       "\t<tr><td>0.8407408</td><td>0.31550771</td><td>-0.156248528</td></tr>\n",
       "\t<tr><td>0.8929735</td><td>0.12062277</td><td>-0.013596251</td></tr>\n",
       "\t<tr><td>1.0166712</td><td>0.08847310</td><td>-0.105144250</td></tr>\n",
       "\t<tr><td>0.8436911</td><td>0.12048085</td><td> 0.035828054</td></tr>\n",
       "\t<tr><td>0.7904750</td><td>0.38037474</td><td>-0.170849750</td></tr>\n",
       "\t<tr><td>0.8658737</td><td>0.28307419</td><td>-0.148947917</td></tr>\n",
       "\t<tr><td>0.8678406</td><td>0.15305629</td><td>-0.020896862</td></tr>\n",
       "\t<tr><td>0.8910066</td><td>0.25064068</td><td>-0.141647306</td></tr>\n",
       "\t<tr><td>0.9161395</td><td>0.21820716</td><td>-0.134346695</td></tr>\n",
       "\t<tr><td>0.8658737</td><td>0.28307419</td><td>-0.148947917</td></tr>\n",
       "\t<tr><td>...</td><td>...</td><td>...</td></tr>\n",
       "\t<tr><td>-0.1439234433</td><td>0.24766034</td><td>0.8962631</td></tr>\n",
       "\t<tr><td> 0.0541895203</td><td>0.18321907</td><td>0.7625914</td></tr>\n",
       "\t<tr><td>-0.3982027735</td><td>0.76702236</td><td>0.6311804</td></tr>\n",
       "\t<tr><td> 0.0522226682</td><td>0.31323698</td><td>0.6345404</td></tr>\n",
       "\t<tr><td>-0.1458902954</td><td>0.37767825</td><td>0.7682120</td></tr>\n",
       "\t<tr><td>-0.2242392891</td><td>0.67000565</td><td>0.5542336</td></tr>\n",
       "\t<tr><td> 0.0773555734</td><td>0.28080346</td><td>0.6418410</td></tr>\n",
       "\t<tr><td> 0.0522226682</td><td>0.31323698</td><td>0.6345404</td></tr>\n",
       "\t<tr><td>-0.1207573902</td><td>0.34524473</td><td>0.7755127</td></tr>\n",
       "\t<tr><td>-0.1759403308</td><td>0.73515653</td><td>0.4407838</td></tr>\n",
       "\t<tr><td>-0.2483887683</td><td>0.63743022</td><td>0.6109586</td></tr>\n",
       "\t<tr><td>-0.3228040579</td><td>0.66972181</td><td>0.6530822</td></tr>\n",
       "\t<tr><td>-0.1197739641</td><td>0.28023578</td><td>0.8395382</td></tr>\n",
       "\t<tr><td>-0.0009934203</td><td>0.57313087</td><td>0.4278626</td></tr>\n",
       "\t<tr><td>-0.1276413724</td><td>0.80030740</td><td>0.3273340</td></tr>\n",
       "\t<tr><td>-0.2444550642</td><td>0.37739440</td><td>0.8670607</td></tr>\n",
       "\t<tr><td>-0.1178071121</td><td>0.15021787</td><td>0.9675892</td></tr>\n",
       "\t<tr><td>-0.0985747631</td><td>0.50783807</td><td>0.5907367</td></tr>\n",
       "\t<tr><td> 0.0773555734</td><td>0.28080346</td><td>0.6418410</td></tr>\n",
       "\t<tr><td>-0.0704915798</td><td>0.28037770</td><td>0.7901139</td></tr>\n",
       "\t<tr><td>-0.1178071121</td><td>0.15021787</td><td>0.9675892</td></tr>\n",
       "\t<tr><td> 0.0068739879</td><td>0.05305924</td><td>0.9400668</td></tr>\n",
       "\t<tr><td> 0.0029402838</td><td>0.31309505</td><td>0.6839647</td></tr>\n",
       "\t<tr><td>-0.1941892537</td><td>0.31252737</td><td>0.8816619</td></tr>\n",
       "\t<tr><td>-0.1419565913</td><td>0.11764243</td><td>1.0243142</td></tr>\n",
       "\t<tr><td>-0.0182589173</td><td>0.08549276</td><td>0.9327662</td></tr>\n",
       "\t<tr><td> 0.0280731890</td><td>0.28066154</td><td>0.6912653</td></tr>\n",
       "\t<tr><td>-0.0212091954</td><td>0.28051962</td><td>0.7406896</td></tr>\n",
       "\t<tr><td>-0.0685247277</td><td>0.15035979</td><td>0.9181649</td></tr>\n",
       "\t<tr><td> 0.0019568578</td><td>0.37810401</td><td>0.6199391</td></tr>\n",
       "</tbody>\n",
       "</table>\n"
      ],
      "text/latex": [
       "A matrix: 150 × 3 of type dbl\n",
       "\\begin{tabular}{lll}\n",
       " X.iris.Species.....setosa.....1 & X.iris.Species.....versicolor.....1 & X.iris.Species.....virginica.....1\\\\\n",
       "\\hline\n",
       "\t 0.9161395 & 0.21820716 & -0.134346695\\\\\n",
       "\t 0.9161395 & 0.21820716 & -0.134346695\\\\\n",
       "\t 0.9412724 & 0.18577364 & -0.127046084\\\\\n",
       "\t 0.8910066 & 0.25064068 & -0.141647306\\\\\n",
       "\t 0.9161395 & 0.21820716 & -0.134346695\\\\\n",
       "\t 0.8427077 & 0.18548980 & -0.028197473\\\\\n",
       "\t 0.9171230 & 0.15319821 & -0.070321167\\\\\n",
       "\t 0.8910066 & 0.25064068 & -0.141647306\\\\\n",
       "\t 0.9161395 & 0.21820716 & -0.134346695\\\\\n",
       "\t 0.8900232 & 0.31564963 & -0.205672833\\\\\n",
       "\t 0.8910066 & 0.25064068 & -0.141647306\\\\\n",
       "\t 0.8658737 & 0.28307419 & -0.148947917\\\\\n",
       "\t 0.9151561 & 0.28321611 & -0.198372222\\\\\n",
       "\t 0.9905548 & 0.18591557 & -0.176470389\\\\\n",
       "\t 0.9664053 & 0.15334013 & -0.119745473\\\\\n",
       "\t 0.8929735 & 0.12062277 & -0.013596251\\\\\n",
       "\t 0.9432393 & 0.05575574 &  0.001004971\\\\\n",
       "\t 0.9171230 & 0.15319821 & -0.070321167\\\\\n",
       "\t 0.8417242 & 0.25049876 & -0.092223001\\\\\n",
       "\t 0.8919901 & 0.18563172 & -0.077621778\\\\\n",
       "\t 0.8407408 & 0.31550771 & -0.156248528\\\\\n",
       "\t 0.8929735 & 0.12062277 & -0.013596251\\\\\n",
       "\t 1.0166712 & 0.08847310 & -0.105144250\\\\\n",
       "\t 0.8436911 & 0.12048085 &  0.035828054\\\\\n",
       "\t 0.7904750 & 0.38037474 & -0.170849750\\\\\n",
       "\t 0.8658737 & 0.28307419 & -0.148947917\\\\\n",
       "\t 0.8678406 & 0.15305629 & -0.020896862\\\\\n",
       "\t 0.8910066 & 0.25064068 & -0.141647306\\\\\n",
       "\t 0.9161395 & 0.21820716 & -0.134346695\\\\\n",
       "\t 0.8658737 & 0.28307419 & -0.148947917\\\\\n",
       "\t ... & ... & ...\\\\\n",
       "\t -0.1439234433 & 0.24766034 & 0.8962631\\\\\n",
       "\t  0.0541895203 & 0.18321907 & 0.7625914\\\\\n",
       "\t -0.3982027735 & 0.76702236 & 0.6311804\\\\\n",
       "\t  0.0522226682 & 0.31323698 & 0.6345404\\\\\n",
       "\t -0.1458902954 & 0.37767825 & 0.7682120\\\\\n",
       "\t -0.2242392891 & 0.67000565 & 0.5542336\\\\\n",
       "\t  0.0773555734 & 0.28080346 & 0.6418410\\\\\n",
       "\t  0.0522226682 & 0.31323698 & 0.6345404\\\\\n",
       "\t -0.1207573902 & 0.34524473 & 0.7755127\\\\\n",
       "\t -0.1759403308 & 0.73515653 & 0.4407838\\\\\n",
       "\t -0.2483887683 & 0.63743022 & 0.6109586\\\\\n",
       "\t -0.3228040579 & 0.66972181 & 0.6530822\\\\\n",
       "\t -0.1197739641 & 0.28023578 & 0.8395382\\\\\n",
       "\t -0.0009934203 & 0.57313087 & 0.4278626\\\\\n",
       "\t -0.1276413724 & 0.80030740 & 0.3273340\\\\\n",
       "\t -0.2444550642 & 0.37739440 & 0.8670607\\\\\n",
       "\t -0.1178071121 & 0.15021787 & 0.9675892\\\\\n",
       "\t -0.0985747631 & 0.50783807 & 0.5907367\\\\\n",
       "\t  0.0773555734 & 0.28080346 & 0.6418410\\\\\n",
       "\t -0.0704915798 & 0.28037770 & 0.7901139\\\\\n",
       "\t -0.1178071121 & 0.15021787 & 0.9675892\\\\\n",
       "\t  0.0068739879 & 0.05305924 & 0.9400668\\\\\n",
       "\t  0.0029402838 & 0.31309505 & 0.6839647\\\\\n",
       "\t -0.1941892537 & 0.31252737 & 0.8816619\\\\\n",
       "\t -0.1419565913 & 0.11764243 & 1.0243142\\\\\n",
       "\t -0.0182589173 & 0.08549276 & 0.9327662\\\\\n",
       "\t  0.0280731890 & 0.28066154 & 0.6912653\\\\\n",
       "\t -0.0212091954 & 0.28051962 & 0.7406896\\\\\n",
       "\t -0.0685247277 & 0.15035979 & 0.9181649\\\\\n",
       "\t  0.0019568578 & 0.37810401 & 0.6199391\\\\\n",
       "\\end{tabular}\n"
      ],
      "text/markdown": [
       "\n",
       "A matrix: 150 × 3 of type dbl\n",
       "\n",
       "| X.iris.Species.....setosa.....1 | X.iris.Species.....versicolor.....1 | X.iris.Species.....virginica.....1 |\n",
       "|---|---|---|\n",
       "| 0.9161395 | 0.21820716 | -0.134346695 |\n",
       "| 0.9161395 | 0.21820716 | -0.134346695 |\n",
       "| 0.9412724 | 0.18577364 | -0.127046084 |\n",
       "| 0.8910066 | 0.25064068 | -0.141647306 |\n",
       "| 0.9161395 | 0.21820716 | -0.134346695 |\n",
       "| 0.8427077 | 0.18548980 | -0.028197473 |\n",
       "| 0.9171230 | 0.15319821 | -0.070321167 |\n",
       "| 0.8910066 | 0.25064068 | -0.141647306 |\n",
       "| 0.9161395 | 0.21820716 | -0.134346695 |\n",
       "| 0.8900232 | 0.31564963 | -0.205672833 |\n",
       "| 0.8910066 | 0.25064068 | -0.141647306 |\n",
       "| 0.8658737 | 0.28307419 | -0.148947917 |\n",
       "| 0.9151561 | 0.28321611 | -0.198372222 |\n",
       "| 0.9905548 | 0.18591557 | -0.176470389 |\n",
       "| 0.9664053 | 0.15334013 | -0.119745473 |\n",
       "| 0.8929735 | 0.12062277 | -0.013596251 |\n",
       "| 0.9432393 | 0.05575574 |  0.001004971 |\n",
       "| 0.9171230 | 0.15319821 | -0.070321167 |\n",
       "| 0.8417242 | 0.25049876 | -0.092223001 |\n",
       "| 0.8919901 | 0.18563172 | -0.077621778 |\n",
       "| 0.8407408 | 0.31550771 | -0.156248528 |\n",
       "| 0.8929735 | 0.12062277 | -0.013596251 |\n",
       "| 1.0166712 | 0.08847310 | -0.105144250 |\n",
       "| 0.8436911 | 0.12048085 |  0.035828054 |\n",
       "| 0.7904750 | 0.38037474 | -0.170849750 |\n",
       "| 0.8658737 | 0.28307419 | -0.148947917 |\n",
       "| 0.8678406 | 0.15305629 | -0.020896862 |\n",
       "| 0.8910066 | 0.25064068 | -0.141647306 |\n",
       "| 0.9161395 | 0.21820716 | -0.134346695 |\n",
       "| 0.8658737 | 0.28307419 | -0.148947917 |\n",
       "| ... | ... | ... |\n",
       "| -0.1439234433 | 0.24766034 | 0.8962631 |\n",
       "|  0.0541895203 | 0.18321907 | 0.7625914 |\n",
       "| -0.3982027735 | 0.76702236 | 0.6311804 |\n",
       "|  0.0522226682 | 0.31323698 | 0.6345404 |\n",
       "| -0.1458902954 | 0.37767825 | 0.7682120 |\n",
       "| -0.2242392891 | 0.67000565 | 0.5542336 |\n",
       "|  0.0773555734 | 0.28080346 | 0.6418410 |\n",
       "|  0.0522226682 | 0.31323698 | 0.6345404 |\n",
       "| -0.1207573902 | 0.34524473 | 0.7755127 |\n",
       "| -0.1759403308 | 0.73515653 | 0.4407838 |\n",
       "| -0.2483887683 | 0.63743022 | 0.6109586 |\n",
       "| -0.3228040579 | 0.66972181 | 0.6530822 |\n",
       "| -0.1197739641 | 0.28023578 | 0.8395382 |\n",
       "| -0.0009934203 | 0.57313087 | 0.4278626 |\n",
       "| -0.1276413724 | 0.80030740 | 0.3273340 |\n",
       "| -0.2444550642 | 0.37739440 | 0.8670607 |\n",
       "| -0.1178071121 | 0.15021787 | 0.9675892 |\n",
       "| -0.0985747631 | 0.50783807 | 0.5907367 |\n",
       "|  0.0773555734 | 0.28080346 | 0.6418410 |\n",
       "| -0.0704915798 | 0.28037770 | 0.7901139 |\n",
       "| -0.1178071121 | 0.15021787 | 0.9675892 |\n",
       "|  0.0068739879 | 0.05305924 | 0.9400668 |\n",
       "|  0.0029402838 | 0.31309505 | 0.6839647 |\n",
       "| -0.1941892537 | 0.31252737 | 0.8816619 |\n",
       "| -0.1419565913 | 0.11764243 | 1.0243142 |\n",
       "| -0.0182589173 | 0.08549276 | 0.9327662 |\n",
       "|  0.0280731890 | 0.28066154 | 0.6912653 |\n",
       "| -0.0212091954 | 0.28051962 | 0.7406896 |\n",
       "| -0.0685247277 | 0.15035979 | 0.9181649 |\n",
       "|  0.0019568578 | 0.37810401 | 0.6199391 |\n",
       "\n"
      ],
      "text/plain": [
       "      X.iris.Species.....setosa.....1 X.iris.Species.....versicolor.....1\n",
       " [1,] 0.9161395                       0.21820716                         \n",
       " [2,] 0.9161395                       0.21820716                         \n",
       " [3,] 0.9412724                       0.18577364                         \n",
       " [4,] 0.8910066                       0.25064068                         \n",
       " [5,] 0.9161395                       0.21820716                         \n",
       " [6,] 0.8427077                       0.18548980                         \n",
       " [7,] 0.9171230                       0.15319821                         \n",
       " [8,] 0.8910066                       0.25064068                         \n",
       " [9,] 0.9161395                       0.21820716                         \n",
       "[10,] 0.8900232                       0.31564963                         \n",
       "[11,] 0.8910066                       0.25064068                         \n",
       "[12,] 0.8658737                       0.28307419                         \n",
       "[13,] 0.9151561                       0.28321611                         \n",
       "[14,] 0.9905548                       0.18591557                         \n",
       "[15,] 0.9664053                       0.15334013                         \n",
       "[16,] 0.8929735                       0.12062277                         \n",
       "[17,] 0.9432393                       0.05575574                         \n",
       "[18,] 0.9171230                       0.15319821                         \n",
       "[19,] 0.8417242                       0.25049876                         \n",
       "[20,] 0.8919901                       0.18563172                         \n",
       "[21,] 0.8407408                       0.31550771                         \n",
       "[22,] 0.8929735                       0.12062277                         \n",
       "[23,] 1.0166712                       0.08847310                         \n",
       "[24,] 0.8436911                       0.12048085                         \n",
       "[25,] 0.7904750                       0.38037474                         \n",
       "[26,] 0.8658737                       0.28307419                         \n",
       "[27,] 0.8678406                       0.15305629                         \n",
       "[28,] 0.8910066                       0.25064068                         \n",
       "[29,] 0.9161395                       0.21820716                         \n",
       "[30,] 0.8658737                       0.28307419                         \n",
       "[31,] ...                             ...                                \n",
       "[32,] -0.1439234433                   0.24766034                         \n",
       "[33,]  0.0541895203                   0.18321907                         \n",
       "[34,] -0.3982027735                   0.76702236                         \n",
       "[35,]  0.0522226682                   0.31323698                         \n",
       "[36,] -0.1458902954                   0.37767825                         \n",
       "[37,] -0.2242392891                   0.67000565                         \n",
       "[38,]  0.0773555734                   0.28080346                         \n",
       "[39,]  0.0522226682                   0.31323698                         \n",
       "[40,] -0.1207573902                   0.34524473                         \n",
       "[41,] -0.1759403308                   0.73515653                         \n",
       "[42,] -0.2483887683                   0.63743022                         \n",
       "[43,] -0.3228040579                   0.66972181                         \n",
       "[44,] -0.1197739641                   0.28023578                         \n",
       "[45,] -0.0009934203                   0.57313087                         \n",
       "[46,] -0.1276413724                   0.80030740                         \n",
       "[47,] -0.2444550642                   0.37739440                         \n",
       "[48,] -0.1178071121                   0.15021787                         \n",
       "[49,] -0.0985747631                   0.50783807                         \n",
       "[50,]  0.0773555734                   0.28080346                         \n",
       "[51,] -0.0704915798                   0.28037770                         \n",
       "[52,] -0.1178071121                   0.15021787                         \n",
       "[53,]  0.0068739879                   0.05305924                         \n",
       "[54,]  0.0029402838                   0.31309505                         \n",
       "[55,] -0.1941892537                   0.31252737                         \n",
       "[56,] -0.1419565913                   0.11764243                         \n",
       "[57,] -0.0182589173                   0.08549276                         \n",
       "[58,]  0.0280731890                   0.28066154                         \n",
       "[59,] -0.0212091954                   0.28051962                         \n",
       "[60,] -0.0685247277                   0.15035979                         \n",
       "[61,]  0.0019568578                   0.37810401                         \n",
       "      X.iris.Species.....virginica.....1\n",
       " [1,] -0.134346695                      \n",
       " [2,] -0.134346695                      \n",
       " [3,] -0.127046084                      \n",
       " [4,] -0.141647306                      \n",
       " [5,] -0.134346695                      \n",
       " [6,] -0.028197473                      \n",
       " [7,] -0.070321167                      \n",
       " [8,] -0.141647306                      \n",
       " [9,] -0.134346695                      \n",
       "[10,] -0.205672833                      \n",
       "[11,] -0.141647306                      \n",
       "[12,] -0.148947917                      \n",
       "[13,] -0.198372222                      \n",
       "[14,] -0.176470389                      \n",
       "[15,] -0.119745473                      \n",
       "[16,] -0.013596251                      \n",
       "[17,]  0.001004971                      \n",
       "[18,] -0.070321167                      \n",
       "[19,] -0.092223001                      \n",
       "[20,] -0.077621778                      \n",
       "[21,] -0.156248528                      \n",
       "[22,] -0.013596251                      \n",
       "[23,] -0.105144250                      \n",
       "[24,]  0.035828054                      \n",
       "[25,] -0.170849750                      \n",
       "[26,] -0.148947917                      \n",
       "[27,] -0.020896862                      \n",
       "[28,] -0.141647306                      \n",
       "[29,] -0.134346695                      \n",
       "[30,] -0.148947917                      \n",
       "[31,] ...                               \n",
       "[32,] 0.8962631                         \n",
       "[33,] 0.7625914                         \n",
       "[34,] 0.6311804                         \n",
       "[35,] 0.6345404                         \n",
       "[36,] 0.7682120                         \n",
       "[37,] 0.5542336                         \n",
       "[38,] 0.6418410                         \n",
       "[39,] 0.6345404                         \n",
       "[40,] 0.7755127                         \n",
       "[41,] 0.4407838                         \n",
       "[42,] 0.6109586                         \n",
       "[43,] 0.6530822                         \n",
       "[44,] 0.8395382                         \n",
       "[45,] 0.4278626                         \n",
       "[46,] 0.3273340                         \n",
       "[47,] 0.8670607                         \n",
       "[48,] 0.9675892                         \n",
       "[49,] 0.5907367                         \n",
       "[50,] 0.6418410                         \n",
       "[51,] 0.7901139                         \n",
       "[52,] 0.9675892                         \n",
       "[53,] 0.9400668                         \n",
       "[54,] 0.6839647                         \n",
       "[55,] 0.8816619                         \n",
       "[56,] 1.0243142                         \n",
       "[57,] 0.9327662                         \n",
       "[58,] 0.6912653                         \n",
       "[59,] 0.7406896                         \n",
       "[60,] 0.9181649                         \n",
       "[61,] 0.6199391                         "
      ]
     },
     "metadata": {},
     "output_type": "display_data"
    }
   ],
   "source": [
    "yhat = X %*% beta\n",
    "yhat"
   ]
  },
  {
   "cell_type": "code",
   "execution_count": 17,
   "metadata": {},
   "outputs": [
    {
     "data": {
      "text/html": [
       "<style>\n",
       ".list-inline {list-style: none; margin:0; padding: 0}\n",
       ".list-inline>li {display: inline-block}\n",
       ".list-inline>li:not(:last-child)::after {content: \"\\00b7\"; padding: 0 .5ex}\n",
       "</style>\n",
       "<ol class=list-inline><li>1</li><li>1</li><li>1</li><li>1</li><li>1</li><li>1</li><li>1</li><li>1</li><li>1</li><li>1</li><li>1</li><li>1</li><li>1</li><li>1</li><li>1</li><li>1</li><li>1</li><li>1</li><li>1</li><li>1</li><li>1</li><li>1</li><li>1</li><li>1</li><li>1</li><li>1</li><li>1</li><li>1</li><li>1</li><li>1</li><li>1</li><li>1</li><li>1</li><li>1</li><li>1</li><li>1</li><li>1</li><li>1</li><li>1</li><li>1</li><li>1</li><li>1</li><li>1</li><li>1</li><li>1</li><li>1</li><li>1</li><li>1</li><li>1</li><li>1</li><li>2</li><li>3</li><li>2</li><li>3</li><li>3</li><li>2</li><li>3</li><li>1</li><li>2</li><li>3</li><li>1</li><li>3</li><li>2</li><li>2</li><li>3</li><li>3</li><li>3</li><li>2</li><li>3</li><li>2</li><li>3</li><li>3</li><li>2</li><li>2</li><li>2</li><li>3</li><li>2</li><li>3</li><li>3</li><li>1</li><li>2</li><li>2</li><li>2</li><li>2</li><li>3</li><li>3</li><li>3</li><li>2</li><li>2</li><li>3</li><li>2</li><li>2</li><li>2</li><li>1</li><li>2</li><li>2</li><li>2</li><li>2</li><li>1</li><li>2</li><li>3</li><li>3</li><li>3</li><li>3</li><li>3</li><li>3</li><li>3</li><li>2</li><li>2</li><li>3</li><li>3</li><li>3</li><li>3</li><li>3</li><li>3</li><li>3</li><li>3</li><li>3</li><li>3</li><li>2</li><li>3</li><li>3</li><li>2</li><li>3</li><li>3</li><li>2</li><li>3</li><li>3</li><li>3</li><li>2</li><li>2</li><li>2</li><li>3</li><li>2</li><li>2</li><li>3</li><li>3</li><li>3</li><li>3</li><li>3</li><li>3</li><li>3</li><li>3</li><li>3</li><li>3</li><li>3</li><li>3</li><li>3</li><li>3</li><li>3</li></ol>\n"
      ],
      "text/latex": [
       "\\begin{enumerate*}\n",
       "\\item 1\n",
       "\\item 1\n",
       "\\item 1\n",
       "\\item 1\n",
       "\\item 1\n",
       "\\item 1\n",
       "\\item 1\n",
       "\\item 1\n",
       "\\item 1\n",
       "\\item 1\n",
       "\\item 1\n",
       "\\item 1\n",
       "\\item 1\n",
       "\\item 1\n",
       "\\item 1\n",
       "\\item 1\n",
       "\\item 1\n",
       "\\item 1\n",
       "\\item 1\n",
       "\\item 1\n",
       "\\item 1\n",
       "\\item 1\n",
       "\\item 1\n",
       "\\item 1\n",
       "\\item 1\n",
       "\\item 1\n",
       "\\item 1\n",
       "\\item 1\n",
       "\\item 1\n",
       "\\item 1\n",
       "\\item 1\n",
       "\\item 1\n",
       "\\item 1\n",
       "\\item 1\n",
       "\\item 1\n",
       "\\item 1\n",
       "\\item 1\n",
       "\\item 1\n",
       "\\item 1\n",
       "\\item 1\n",
       "\\item 1\n",
       "\\item 1\n",
       "\\item 1\n",
       "\\item 1\n",
       "\\item 1\n",
       "\\item 1\n",
       "\\item 1\n",
       "\\item 1\n",
       "\\item 1\n",
       "\\item 1\n",
       "\\item 2\n",
       "\\item 3\n",
       "\\item 2\n",
       "\\item 3\n",
       "\\item 3\n",
       "\\item 2\n",
       "\\item 3\n",
       "\\item 1\n",
       "\\item 2\n",
       "\\item 3\n",
       "\\item 1\n",
       "\\item 3\n",
       "\\item 2\n",
       "\\item 2\n",
       "\\item 3\n",
       "\\item 3\n",
       "\\item 3\n",
       "\\item 2\n",
       "\\item 3\n",
       "\\item 2\n",
       "\\item 3\n",
       "\\item 3\n",
       "\\item 2\n",
       "\\item 2\n",
       "\\item 2\n",
       "\\item 3\n",
       "\\item 2\n",
       "\\item 3\n",
       "\\item 3\n",
       "\\item 1\n",
       "\\item 2\n",
       "\\item 2\n",
       "\\item 2\n",
       "\\item 2\n",
       "\\item 3\n",
       "\\item 3\n",
       "\\item 3\n",
       "\\item 2\n",
       "\\item 2\n",
       "\\item 3\n",
       "\\item 2\n",
       "\\item 2\n",
       "\\item 2\n",
       "\\item 1\n",
       "\\item 2\n",
       "\\item 2\n",
       "\\item 2\n",
       "\\item 2\n",
       "\\item 1\n",
       "\\item 2\n",
       "\\item 3\n",
       "\\item 3\n",
       "\\item 3\n",
       "\\item 3\n",
       "\\item 3\n",
       "\\item 3\n",
       "\\item 3\n",
       "\\item 2\n",
       "\\item 2\n",
       "\\item 3\n",
       "\\item 3\n",
       "\\item 3\n",
       "\\item 3\n",
       "\\item 3\n",
       "\\item 3\n",
       "\\item 3\n",
       "\\item 3\n",
       "\\item 3\n",
       "\\item 3\n",
       "\\item 2\n",
       "\\item 3\n",
       "\\item 3\n",
       "\\item 2\n",
       "\\item 3\n",
       "\\item 3\n",
       "\\item 2\n",
       "\\item 3\n",
       "\\item 3\n",
       "\\item 3\n",
       "\\item 2\n",
       "\\item 2\n",
       "\\item 2\n",
       "\\item 3\n",
       "\\item 2\n",
       "\\item 2\n",
       "\\item 3\n",
       "\\item 3\n",
       "\\item 3\n",
       "\\item 3\n",
       "\\item 3\n",
       "\\item 3\n",
       "\\item 3\n",
       "\\item 3\n",
       "\\item 3\n",
       "\\item 3\n",
       "\\item 3\n",
       "\\item 3\n",
       "\\item 3\n",
       "\\item 3\n",
       "\\item 3\n",
       "\\end{enumerate*}\n"
      ],
      "text/markdown": [
       "1. 1\n",
       "2. 1\n",
       "3. 1\n",
       "4. 1\n",
       "5. 1\n",
       "6. 1\n",
       "7. 1\n",
       "8. 1\n",
       "9. 1\n",
       "10. 1\n",
       "11. 1\n",
       "12. 1\n",
       "13. 1\n",
       "14. 1\n",
       "15. 1\n",
       "16. 1\n",
       "17. 1\n",
       "18. 1\n",
       "19. 1\n",
       "20. 1\n",
       "21. 1\n",
       "22. 1\n",
       "23. 1\n",
       "24. 1\n",
       "25. 1\n",
       "26. 1\n",
       "27. 1\n",
       "28. 1\n",
       "29. 1\n",
       "30. 1\n",
       "31. 1\n",
       "32. 1\n",
       "33. 1\n",
       "34. 1\n",
       "35. 1\n",
       "36. 1\n",
       "37. 1\n",
       "38. 1\n",
       "39. 1\n",
       "40. 1\n",
       "41. 1\n",
       "42. 1\n",
       "43. 1\n",
       "44. 1\n",
       "45. 1\n",
       "46. 1\n",
       "47. 1\n",
       "48. 1\n",
       "49. 1\n",
       "50. 1\n",
       "51. 2\n",
       "52. 3\n",
       "53. 2\n",
       "54. 3\n",
       "55. 3\n",
       "56. 2\n",
       "57. 3\n",
       "58. 1\n",
       "59. 2\n",
       "60. 3\n",
       "61. 1\n",
       "62. 3\n",
       "63. 2\n",
       "64. 2\n",
       "65. 3\n",
       "66. 3\n",
       "67. 3\n",
       "68. 2\n",
       "69. 3\n",
       "70. 2\n",
       "71. 3\n",
       "72. 3\n",
       "73. 2\n",
       "74. 2\n",
       "75. 2\n",
       "76. 3\n",
       "77. 2\n",
       "78. 3\n",
       "79. 3\n",
       "80. 1\n",
       "81. 2\n",
       "82. 2\n",
       "83. 2\n",
       "84. 2\n",
       "85. 3\n",
       "86. 3\n",
       "87. 3\n",
       "88. 2\n",
       "89. 2\n",
       "90. 3\n",
       "91. 2\n",
       "92. 2\n",
       "93. 2\n",
       "94. 1\n",
       "95. 2\n",
       "96. 2\n",
       "97. 2\n",
       "98. 2\n",
       "99. 1\n",
       "100. 2\n",
       "101. 3\n",
       "102. 3\n",
       "103. 3\n",
       "104. 3\n",
       "105. 3\n",
       "106. 3\n",
       "107. 3\n",
       "108. 2\n",
       "109. 2\n",
       "110. 3\n",
       "111. 3\n",
       "112. 3\n",
       "113. 3\n",
       "114. 3\n",
       "115. 3\n",
       "116. 3\n",
       "117. 3\n",
       "118. 3\n",
       "119. 3\n",
       "120. 2\n",
       "121. 3\n",
       "122. 3\n",
       "123. 2\n",
       "124. 3\n",
       "125. 3\n",
       "126. 2\n",
       "127. 3\n",
       "128. 3\n",
       "129. 3\n",
       "130. 2\n",
       "131. 2\n",
       "132. 2\n",
       "133. 3\n",
       "134. 2\n",
       "135. 2\n",
       "136. 3\n",
       "137. 3\n",
       "138. 3\n",
       "139. 3\n",
       "140. 3\n",
       "141. 3\n",
       "142. 3\n",
       "143. 3\n",
       "144. 3\n",
       "145. 3\n",
       "146. 3\n",
       "147. 3\n",
       "148. 3\n",
       "149. 3\n",
       "150. 3\n",
       "\n",
       "\n"
      ],
      "text/plain": [
       "  [1] 1 1 1 1 1 1 1 1 1 1 1 1 1 1 1 1 1 1 1 1 1 1 1 1 1 1 1 1 1 1 1 1 1 1 1 1 1\n",
       " [38] 1 1 1 1 1 1 1 1 1 1 1 1 1 2 3 2 3 3 2 3 1 2 3 1 3 2 2 3 3 3 2 3 2 3 3 2 2\n",
       " [75] 2 3 2 3 3 1 2 2 2 2 3 3 3 2 2 3 2 2 2 1 2 2 2 2 1 2 3 3 3 3 3 3 3 2 2 3 3\n",
       "[112] 3 3 3 3 3 3 3 3 2 3 3 2 3 3 2 3 3 3 2 2 2 3 2 2 3 3 3 3 3 3 3 3 3 3 3 3 3\n",
       "[149] 3 3"
      ]
     },
     "metadata": {},
     "output_type": "display_data"
    }
   ],
   "source": [
    "max1 = apply(yhat, 1, which.max)\n",
    "max1"
   ]
  },
  {
   "cell_type": "code",
   "execution_count": 18,
   "metadata": {},
   "outputs": [
    {
     "data": {
      "text/html": [
       "<style>\n",
       ".list-inline {list-style: none; margin:0; padding: 0}\n",
       ".list-inline>li {display: inline-block}\n",
       ".list-inline>li:not(:last-child)::after {content: \"\\00b7\"; padding: 0 .5ex}\n",
       "</style>\n",
       "<ol class=list-inline><li>'setosa'</li><li>'setosa'</li><li>'setosa'</li><li>'setosa'</li><li>'setosa'</li><li>'setosa'</li><li>'setosa'</li><li>'setosa'</li><li>'setosa'</li><li>'setosa'</li><li>'setosa'</li><li>'setosa'</li><li>'setosa'</li><li>'setosa'</li><li>'setosa'</li><li>'setosa'</li><li>'setosa'</li><li>'setosa'</li><li>'setosa'</li><li>'setosa'</li><li>'setosa'</li><li>'setosa'</li><li>'setosa'</li><li>'setosa'</li><li>'setosa'</li><li>'setosa'</li><li>'setosa'</li><li>'setosa'</li><li>'setosa'</li><li>'setosa'</li><li>'setosa'</li><li>'setosa'</li><li>'setosa'</li><li>'setosa'</li><li>'setosa'</li><li>'setosa'</li><li>'setosa'</li><li>'setosa'</li><li>'setosa'</li><li>'setosa'</li><li>'setosa'</li><li>'setosa'</li><li>'setosa'</li><li>'setosa'</li><li>'setosa'</li><li>'setosa'</li><li>'setosa'</li><li>'setosa'</li><li>'setosa'</li><li>'setosa'</li><li>'versicolor'</li><li>'virginica'</li><li>'versicolor'</li><li>'virginica'</li><li>'virginica'</li><li>'versicolor'</li><li>'virginica'</li><li>'setosa'</li><li>'versicolor'</li><li>'virginica'</li><li>'setosa'</li><li>'virginica'</li><li>'versicolor'</li><li>'versicolor'</li><li>'virginica'</li><li>'virginica'</li><li>'virginica'</li><li>'versicolor'</li><li>'virginica'</li><li>'versicolor'</li><li>'virginica'</li><li>'virginica'</li><li>'versicolor'</li><li>'versicolor'</li><li>'versicolor'</li><li>'virginica'</li><li>'versicolor'</li><li>'virginica'</li><li>'virginica'</li><li>'setosa'</li><li>'versicolor'</li><li>'versicolor'</li><li>'versicolor'</li><li>'versicolor'</li><li>'virginica'</li><li>'virginica'</li><li>'virginica'</li><li>'versicolor'</li><li>'versicolor'</li><li>'virginica'</li><li>'versicolor'</li><li>'versicolor'</li><li>'versicolor'</li><li>'setosa'</li><li>'versicolor'</li><li>'versicolor'</li><li>'versicolor'</li><li>'versicolor'</li><li>'setosa'</li><li>'versicolor'</li><li>'virginica'</li><li>'virginica'</li><li>'virginica'</li><li>'virginica'</li><li>'virginica'</li><li>'virginica'</li><li>'virginica'</li><li>'versicolor'</li><li>'versicolor'</li><li>'virginica'</li><li>'virginica'</li><li>'virginica'</li><li>'virginica'</li><li>'virginica'</li><li>'virginica'</li><li>'virginica'</li><li>'virginica'</li><li>'virginica'</li><li>'virginica'</li><li>'versicolor'</li><li>'virginica'</li><li>'virginica'</li><li>'versicolor'</li><li>'virginica'</li><li>'virginica'</li><li>'versicolor'</li><li>'virginica'</li><li>'virginica'</li><li>'virginica'</li><li>'versicolor'</li><li>'versicolor'</li><li>'versicolor'</li><li>'virginica'</li><li>'versicolor'</li><li>'versicolor'</li><li>'virginica'</li><li>'virginica'</li><li>'virginica'</li><li>'virginica'</li><li>'virginica'</li><li>'virginica'</li><li>'virginica'</li><li>'virginica'</li><li>'virginica'</li><li>'virginica'</li><li>'virginica'</li><li>'virginica'</li><li>'virginica'</li><li>'virginica'</li><li>'virginica'</li></ol>\n"
      ],
      "text/latex": [
       "\\begin{enumerate*}\n",
       "\\item 'setosa'\n",
       "\\item 'setosa'\n",
       "\\item 'setosa'\n",
       "\\item 'setosa'\n",
       "\\item 'setosa'\n",
       "\\item 'setosa'\n",
       "\\item 'setosa'\n",
       "\\item 'setosa'\n",
       "\\item 'setosa'\n",
       "\\item 'setosa'\n",
       "\\item 'setosa'\n",
       "\\item 'setosa'\n",
       "\\item 'setosa'\n",
       "\\item 'setosa'\n",
       "\\item 'setosa'\n",
       "\\item 'setosa'\n",
       "\\item 'setosa'\n",
       "\\item 'setosa'\n",
       "\\item 'setosa'\n",
       "\\item 'setosa'\n",
       "\\item 'setosa'\n",
       "\\item 'setosa'\n",
       "\\item 'setosa'\n",
       "\\item 'setosa'\n",
       "\\item 'setosa'\n",
       "\\item 'setosa'\n",
       "\\item 'setosa'\n",
       "\\item 'setosa'\n",
       "\\item 'setosa'\n",
       "\\item 'setosa'\n",
       "\\item 'setosa'\n",
       "\\item 'setosa'\n",
       "\\item 'setosa'\n",
       "\\item 'setosa'\n",
       "\\item 'setosa'\n",
       "\\item 'setosa'\n",
       "\\item 'setosa'\n",
       "\\item 'setosa'\n",
       "\\item 'setosa'\n",
       "\\item 'setosa'\n",
       "\\item 'setosa'\n",
       "\\item 'setosa'\n",
       "\\item 'setosa'\n",
       "\\item 'setosa'\n",
       "\\item 'setosa'\n",
       "\\item 'setosa'\n",
       "\\item 'setosa'\n",
       "\\item 'setosa'\n",
       "\\item 'setosa'\n",
       "\\item 'setosa'\n",
       "\\item 'versicolor'\n",
       "\\item 'virginica'\n",
       "\\item 'versicolor'\n",
       "\\item 'virginica'\n",
       "\\item 'virginica'\n",
       "\\item 'versicolor'\n",
       "\\item 'virginica'\n",
       "\\item 'setosa'\n",
       "\\item 'versicolor'\n",
       "\\item 'virginica'\n",
       "\\item 'setosa'\n",
       "\\item 'virginica'\n",
       "\\item 'versicolor'\n",
       "\\item 'versicolor'\n",
       "\\item 'virginica'\n",
       "\\item 'virginica'\n",
       "\\item 'virginica'\n",
       "\\item 'versicolor'\n",
       "\\item 'virginica'\n",
       "\\item 'versicolor'\n",
       "\\item 'virginica'\n",
       "\\item 'virginica'\n",
       "\\item 'versicolor'\n",
       "\\item 'versicolor'\n",
       "\\item 'versicolor'\n",
       "\\item 'virginica'\n",
       "\\item 'versicolor'\n",
       "\\item 'virginica'\n",
       "\\item 'virginica'\n",
       "\\item 'setosa'\n",
       "\\item 'versicolor'\n",
       "\\item 'versicolor'\n",
       "\\item 'versicolor'\n",
       "\\item 'versicolor'\n",
       "\\item 'virginica'\n",
       "\\item 'virginica'\n",
       "\\item 'virginica'\n",
       "\\item 'versicolor'\n",
       "\\item 'versicolor'\n",
       "\\item 'virginica'\n",
       "\\item 'versicolor'\n",
       "\\item 'versicolor'\n",
       "\\item 'versicolor'\n",
       "\\item 'setosa'\n",
       "\\item 'versicolor'\n",
       "\\item 'versicolor'\n",
       "\\item 'versicolor'\n",
       "\\item 'versicolor'\n",
       "\\item 'setosa'\n",
       "\\item 'versicolor'\n",
       "\\item 'virginica'\n",
       "\\item 'virginica'\n",
       "\\item 'virginica'\n",
       "\\item 'virginica'\n",
       "\\item 'virginica'\n",
       "\\item 'virginica'\n",
       "\\item 'virginica'\n",
       "\\item 'versicolor'\n",
       "\\item 'versicolor'\n",
       "\\item 'virginica'\n",
       "\\item 'virginica'\n",
       "\\item 'virginica'\n",
       "\\item 'virginica'\n",
       "\\item 'virginica'\n",
       "\\item 'virginica'\n",
       "\\item 'virginica'\n",
       "\\item 'virginica'\n",
       "\\item 'virginica'\n",
       "\\item 'virginica'\n",
       "\\item 'versicolor'\n",
       "\\item 'virginica'\n",
       "\\item 'virginica'\n",
       "\\item 'versicolor'\n",
       "\\item 'virginica'\n",
       "\\item 'virginica'\n",
       "\\item 'versicolor'\n",
       "\\item 'virginica'\n",
       "\\item 'virginica'\n",
       "\\item 'virginica'\n",
       "\\item 'versicolor'\n",
       "\\item 'versicolor'\n",
       "\\item 'versicolor'\n",
       "\\item 'virginica'\n",
       "\\item 'versicolor'\n",
       "\\item 'versicolor'\n",
       "\\item 'virginica'\n",
       "\\item 'virginica'\n",
       "\\item 'virginica'\n",
       "\\item 'virginica'\n",
       "\\item 'virginica'\n",
       "\\item 'virginica'\n",
       "\\item 'virginica'\n",
       "\\item 'virginica'\n",
       "\\item 'virginica'\n",
       "\\item 'virginica'\n",
       "\\item 'virginica'\n",
       "\\item 'virginica'\n",
       "\\item 'virginica'\n",
       "\\item 'virginica'\n",
       "\\item 'virginica'\n",
       "\\end{enumerate*}\n"
      ],
      "text/markdown": [
       "1. 'setosa'\n",
       "2. 'setosa'\n",
       "3. 'setosa'\n",
       "4. 'setosa'\n",
       "5. 'setosa'\n",
       "6. 'setosa'\n",
       "7. 'setosa'\n",
       "8. 'setosa'\n",
       "9. 'setosa'\n",
       "10. 'setosa'\n",
       "11. 'setosa'\n",
       "12. 'setosa'\n",
       "13. 'setosa'\n",
       "14. 'setosa'\n",
       "15. 'setosa'\n",
       "16. 'setosa'\n",
       "17. 'setosa'\n",
       "18. 'setosa'\n",
       "19. 'setosa'\n",
       "20. 'setosa'\n",
       "21. 'setosa'\n",
       "22. 'setosa'\n",
       "23. 'setosa'\n",
       "24. 'setosa'\n",
       "25. 'setosa'\n",
       "26. 'setosa'\n",
       "27. 'setosa'\n",
       "28. 'setosa'\n",
       "29. 'setosa'\n",
       "30. 'setosa'\n",
       "31. 'setosa'\n",
       "32. 'setosa'\n",
       "33. 'setosa'\n",
       "34. 'setosa'\n",
       "35. 'setosa'\n",
       "36. 'setosa'\n",
       "37. 'setosa'\n",
       "38. 'setosa'\n",
       "39. 'setosa'\n",
       "40. 'setosa'\n",
       "41. 'setosa'\n",
       "42. 'setosa'\n",
       "43. 'setosa'\n",
       "44. 'setosa'\n",
       "45. 'setosa'\n",
       "46. 'setosa'\n",
       "47. 'setosa'\n",
       "48. 'setosa'\n",
       "49. 'setosa'\n",
       "50. 'setosa'\n",
       "51. 'versicolor'\n",
       "52. 'virginica'\n",
       "53. 'versicolor'\n",
       "54. 'virginica'\n",
       "55. 'virginica'\n",
       "56. 'versicolor'\n",
       "57. 'virginica'\n",
       "58. 'setosa'\n",
       "59. 'versicolor'\n",
       "60. 'virginica'\n",
       "61. 'setosa'\n",
       "62. 'virginica'\n",
       "63. 'versicolor'\n",
       "64. 'versicolor'\n",
       "65. 'virginica'\n",
       "66. 'virginica'\n",
       "67. 'virginica'\n",
       "68. 'versicolor'\n",
       "69. 'virginica'\n",
       "70. 'versicolor'\n",
       "71. 'virginica'\n",
       "72. 'virginica'\n",
       "73. 'versicolor'\n",
       "74. 'versicolor'\n",
       "75. 'versicolor'\n",
       "76. 'virginica'\n",
       "77. 'versicolor'\n",
       "78. 'virginica'\n",
       "79. 'virginica'\n",
       "80. 'setosa'\n",
       "81. 'versicolor'\n",
       "82. 'versicolor'\n",
       "83. 'versicolor'\n",
       "84. 'versicolor'\n",
       "85. 'virginica'\n",
       "86. 'virginica'\n",
       "87. 'virginica'\n",
       "88. 'versicolor'\n",
       "89. 'versicolor'\n",
       "90. 'virginica'\n",
       "91. 'versicolor'\n",
       "92. 'versicolor'\n",
       "93. 'versicolor'\n",
       "94. 'setosa'\n",
       "95. 'versicolor'\n",
       "96. 'versicolor'\n",
       "97. 'versicolor'\n",
       "98. 'versicolor'\n",
       "99. 'setosa'\n",
       "100. 'versicolor'\n",
       "101. 'virginica'\n",
       "102. 'virginica'\n",
       "103. 'virginica'\n",
       "104. 'virginica'\n",
       "105. 'virginica'\n",
       "106. 'virginica'\n",
       "107. 'virginica'\n",
       "108. 'versicolor'\n",
       "109. 'versicolor'\n",
       "110. 'virginica'\n",
       "111. 'virginica'\n",
       "112. 'virginica'\n",
       "113. 'virginica'\n",
       "114. 'virginica'\n",
       "115. 'virginica'\n",
       "116. 'virginica'\n",
       "117. 'virginica'\n",
       "118. 'virginica'\n",
       "119. 'virginica'\n",
       "120. 'versicolor'\n",
       "121. 'virginica'\n",
       "122. 'virginica'\n",
       "123. 'versicolor'\n",
       "124. 'virginica'\n",
       "125. 'virginica'\n",
       "126. 'versicolor'\n",
       "127. 'virginica'\n",
       "128. 'virginica'\n",
       "129. 'virginica'\n",
       "130. 'versicolor'\n",
       "131. 'versicolor'\n",
       "132. 'versicolor'\n",
       "133. 'virginica'\n",
       "134. 'versicolor'\n",
       "135. 'versicolor'\n",
       "136. 'virginica'\n",
       "137. 'virginica'\n",
       "138. 'virginica'\n",
       "139. 'virginica'\n",
       "140. 'virginica'\n",
       "141. 'virginica'\n",
       "142. 'virginica'\n",
       "143. 'virginica'\n",
       "144. 'virginica'\n",
       "145. 'virginica'\n",
       "146. 'virginica'\n",
       "147. 'virginica'\n",
       "148. 'virginica'\n",
       "149. 'virginica'\n",
       "150. 'virginica'\n",
       "\n",
       "\n"
      ],
      "text/plain": [
       "  [1] \"setosa\"     \"setosa\"     \"setosa\"     \"setosa\"     \"setosa\"    \n",
       "  [6] \"setosa\"     \"setosa\"     \"setosa\"     \"setosa\"     \"setosa\"    \n",
       " [11] \"setosa\"     \"setosa\"     \"setosa\"     \"setosa\"     \"setosa\"    \n",
       " [16] \"setosa\"     \"setosa\"     \"setosa\"     \"setosa\"     \"setosa\"    \n",
       " [21] \"setosa\"     \"setosa\"     \"setosa\"     \"setosa\"     \"setosa\"    \n",
       " [26] \"setosa\"     \"setosa\"     \"setosa\"     \"setosa\"     \"setosa\"    \n",
       " [31] \"setosa\"     \"setosa\"     \"setosa\"     \"setosa\"     \"setosa\"    \n",
       " [36] \"setosa\"     \"setosa\"     \"setosa\"     \"setosa\"     \"setosa\"    \n",
       " [41] \"setosa\"     \"setosa\"     \"setosa\"     \"setosa\"     \"setosa\"    \n",
       " [46] \"setosa\"     \"setosa\"     \"setosa\"     \"setosa\"     \"setosa\"    \n",
       " [51] \"versicolor\" \"virginica\"  \"versicolor\" \"virginica\"  \"virginica\" \n",
       " [56] \"versicolor\" \"virginica\"  \"setosa\"     \"versicolor\" \"virginica\" \n",
       " [61] \"setosa\"     \"virginica\"  \"versicolor\" \"versicolor\" \"virginica\" \n",
       " [66] \"virginica\"  \"virginica\"  \"versicolor\" \"virginica\"  \"versicolor\"\n",
       " [71] \"virginica\"  \"virginica\"  \"versicolor\" \"versicolor\" \"versicolor\"\n",
       " [76] \"virginica\"  \"versicolor\" \"virginica\"  \"virginica\"  \"setosa\"    \n",
       " [81] \"versicolor\" \"versicolor\" \"versicolor\" \"versicolor\" \"virginica\" \n",
       " [86] \"virginica\"  \"virginica\"  \"versicolor\" \"versicolor\" \"virginica\" \n",
       " [91] \"versicolor\" \"versicolor\" \"versicolor\" \"setosa\"     \"versicolor\"\n",
       " [96] \"versicolor\" \"versicolor\" \"versicolor\" \"setosa\"     \"versicolor\"\n",
       "[101] \"virginica\"  \"virginica\"  \"virginica\"  \"virginica\"  \"virginica\" \n",
       "[106] \"virginica\"  \"virginica\"  \"versicolor\" \"versicolor\" \"virginica\" \n",
       "[111] \"virginica\"  \"virginica\"  \"virginica\"  \"virginica\"  \"virginica\" \n",
       "[116] \"virginica\"  \"virginica\"  \"virginica\"  \"virginica\"  \"versicolor\"\n",
       "[121] \"virginica\"  \"virginica\"  \"versicolor\" \"virginica\"  \"virginica\" \n",
       "[126] \"versicolor\" \"virginica\"  \"virginica\"  \"virginica\"  \"versicolor\"\n",
       "[131] \"versicolor\" \"versicolor\" \"virginica\"  \"versicolor\" \"versicolor\"\n",
       "[136] \"virginica\"  \"virginica\"  \"virginica\"  \"virginica\"  \"virginica\" \n",
       "[141] \"virginica\"  \"virginica\"  \"virginica\"  \"virginica\"  \"virginica\" \n",
       "[146] \"virginica\"  \"virginica\"  \"virginica\"  \"virginica\"  \"virginica\" "
      ]
     },
     "metadata": {},
     "output_type": "display_data"
    }
   ],
   "source": [
    "species1 = c('setosa', 'versicolor', 'virginica')\n",
    "species1[max1]"
   ]
  },
  {
   "cell_type": "code",
   "execution_count": 19,
   "metadata": {},
   "outputs": [
    {
     "data": {
      "text/plain": [
       "\n",
       "FALSE  TRUE \n",
       "   34   116 "
      ]
     },
     "metadata": {},
     "output_type": "display_data"
    }
   ],
   "source": [
    "table(species1[max1] == iris$Species)"
   ]
  },
  {
   "cell_type": "markdown",
   "metadata": {},
   "source": [
    "#### [Confusion Matrix](https://en.wikipedia.org/wiki/Confusion_matrix)"
   ]
  },
  {
   "cell_type": "code",
   "execution_count": 20,
   "metadata": {},
   "outputs": [
    {
     "data": {
      "text/plain": [
       "            \n",
       "             setosa versicolor virginica\n",
       "  setosa         50          5         0\n",
       "  versicolor      0         26        10\n",
       "  virginica       0         19        40"
      ]
     },
     "metadata": {},
     "output_type": "display_data"
    }
   ],
   "source": [
    "table(species1[max1],iris$Species)"
   ]
  },
  {
   "cell_type": "code",
   "execution_count": 21,
   "metadata": {},
   "outputs": [
    {
     "data": {
      "image/png": "[encoded data removed]",
      "text/plain": [
       "plot without title"
      ]
     },
     "metadata": {
      "image/png": {
       "height": 420,
       "width": 420
      }
     },
     "output_type": "display_data"
    }
   ],
   "source": [
    "plot(iris$Petal.Length, iris$Petal.Width, col=iris$Species, pch=15)"
   ]
  },
  {
   "cell_type": "code",
   "execution_count": 22,
   "metadata": {},
   "outputs": [
    {
     "data": {
      "text/html": [
       "77.3333333333333"
      ],
      "text/latex": [
       "77.3333333333333"
      ],
      "text/markdown": [
       "77.3333333333333"
      ],
      "text/plain": [
       "[1] 77.33333"
      ]
     },
     "metadata": {},
     "output_type": "display_data"
    }
   ],
   "source": [
    "116 * 100 / 150"
   ]
  },
  {
   "cell_type": "markdown",
   "metadata": {},
   "source": [
    "## How did it work in the backend?"
   ]
  },
  {
   "cell_type": "markdown",
   "metadata": {},
   "source": [
    "### Species ~ Petal.Length"
   ]
  },
  {
   "cell_type": "code",
   "execution_count": 23,
   "metadata": {},
   "outputs": [
    {
     "data": {
      "text/html": [
       "<table class=\"dataframe\">\n",
       "<caption>A matrix: 2 × 3 of type dbl</caption>\n",
       "<thead>\n",
       "\t<tr><th></th><th scope=col>X.iris.Species.....setosa.....1</th><th scope=col>X.iris.Species.....versicolor.....1</th><th scope=col>X.iris.Species.....virginica.....1</th></tr>\n",
       "</thead>\n",
       "<tbody>\n",
       "\t<tr><th scope=row>Petal.Length</th><td>-0.2472404</td><td>0.05405692</td><td> 0.1931835</td></tr>\n",
       "\t<tr><th scope=row>intercept</th><td> 1.2624628</td><td>0.13018744</td><td>-0.3926502</td></tr>\n",
       "</tbody>\n",
       "</table>\n"
      ],
      "text/latex": [
       "A matrix: 2 × 3 of type dbl\n",
       "\\begin{tabular}{r|lll}\n",
       "  & X.iris.Species.....setosa.....1 & X.iris.Species.....versicolor.....1 & X.iris.Species.....virginica.....1\\\\\n",
       "\\hline\n",
       "\tPetal.Length & -0.2472404 & 0.05405692 &  0.1931835\\\\\n",
       "\tintercept &  1.2624628 & 0.13018744 & -0.3926502\\\\\n",
       "\\end{tabular}\n"
      ],
      "text/markdown": [
       "\n",
       "A matrix: 2 × 3 of type dbl\n",
       "\n",
       "| <!--/--> | X.iris.Species.....setosa.....1 | X.iris.Species.....versicolor.....1 | X.iris.Species.....virginica.....1 |\n",
       "|---|---|---|---|\n",
       "| Petal.Length | -0.2472404 | 0.05405692 |  0.1931835 |\n",
       "| intercept |  1.2624628 | 0.13018744 | -0.3926502 |\n",
       "\n"
      ],
      "text/plain": [
       "             X.iris.Species.....setosa.....1\n",
       "Petal.Length -0.2472404                     \n",
       "intercept     1.2624628                     \n",
       "             X.iris.Species.....versicolor.....1\n",
       "Petal.Length 0.05405692                         \n",
       "intercept    0.13018744                         \n",
       "             X.iris.Species.....virginica.....1\n",
       "Petal.Length  0.1931835                        \n",
       "intercept    -0.3926502                        "
      ]
     },
     "metadata": {},
     "output_type": "display_data"
    }
   ],
   "source": [
    "#repeat the same procedure\n",
    "\n",
    "X = iris[ , c(\"Petal.Length\") , drop=FALSE ]\n",
    "X[ , 'intercept'] = 1\n",
    "X = as.matrix(X)\n",
    "\n",
    "# Y matrix is same and so not calcualted again\n",
    "\n",
    "beta = ( solve( t(X) %*% X ) %*% t(X) ) %*% Y\n",
    "beta"
   ]
  },
  {
   "cell_type": "code",
   "execution_count": 24,
   "metadata": {},
   "outputs": [
    {
     "data": {
      "image/png": "[encoded data removed]",
      "text/plain": [
       "plot without title"
      ]
     },
     "metadata": {
      "image/png": {
       "height": 420,
       "width": 420
      }
     },
     "output_type": "display_data"
    }
   ],
   "source": [
    "plot(iris$Petal.Length, Y[,1], pch=15)\n",
    "abline(a=1.2624628, b=-0.2472404, col=\"red\")"
   ]
  },
  {
   "cell_type": "code",
   "execution_count": 25,
   "metadata": {},
   "outputs": [
    {
     "data": {
      "text/html": [
       "<table class=\"dataframe\">\n",
       "<caption>A matrix: 2 × 3 of type dbl</caption>\n",
       "<thead>\n",
       "\t<tr><th></th><th scope=col>X.iris.Species.....setosa.....1</th><th scope=col>X.iris.Species.....versicolor.....1</th><th scope=col>X.iris.Species.....virginica.....1</th></tr>\n",
       "</thead>\n",
       "<tbody>\n",
       "\t<tr><th scope=row>Petal.Length</th><td>-0.2472404</td><td>0.05405692</td><td> 0.1931835</td></tr>\n",
       "\t<tr><th scope=row>intercept</th><td> 1.2624628</td><td>0.13018744</td><td>-0.3926502</td></tr>\n",
       "</tbody>\n",
       "</table>\n"
      ],
      "text/latex": [
       "A matrix: 2 × 3 of type dbl\n",
       "\\begin{tabular}{r|lll}\n",
       "  & X.iris.Species.....setosa.....1 & X.iris.Species.....versicolor.....1 & X.iris.Species.....virginica.....1\\\\\n",
       "\\hline\n",
       "\tPetal.Length & -0.2472404 & 0.05405692 &  0.1931835\\\\\n",
       "\tintercept &  1.2624628 & 0.13018744 & -0.3926502\\\\\n",
       "\\end{tabular}\n"
      ],
      "text/markdown": [
       "\n",
       "A matrix: 2 × 3 of type dbl\n",
       "\n",
       "| <!--/--> | X.iris.Species.....setosa.....1 | X.iris.Species.....versicolor.....1 | X.iris.Species.....virginica.....1 |\n",
       "|---|---|---|---|\n",
       "| Petal.Length | -0.2472404 | 0.05405692 |  0.1931835 |\n",
       "| intercept |  1.2624628 | 0.13018744 | -0.3926502 |\n",
       "\n"
      ],
      "text/plain": [
       "             X.iris.Species.....setosa.....1\n",
       "Petal.Length -0.2472404                     \n",
       "intercept     1.2624628                     \n",
       "             X.iris.Species.....versicolor.....1\n",
       "Petal.Length 0.05405692                         \n",
       "intercept    0.13018744                         \n",
       "             X.iris.Species.....virginica.....1\n",
       "Petal.Length  0.1931835                        \n",
       "intercept    -0.3926502                        "
      ]
     },
     "metadata": {},
     "output_type": "display_data"
    }
   ],
   "source": [
    "beta"
   ]
  },
  {
   "cell_type": "markdown",
   "metadata": {},
   "source": [
    "#### What will the predicted \"Species\" be for \"Petal.Length\"=8"
   ]
  },
  {
   "cell_type": "markdown",
   "metadata": {},
   "source": [
    "$$ P(setosa) = \\beta_{intercept_{setosa}}+(\\beta_{Petal\\_Length_{setosa}}*Petal.Length) $$\n",
    "$$ P(versicolor) = \\beta_{intercept_{versicolor}}+(\\beta_{Petal\\_Length_{versicolor}}*Petal.Length) $$\n",
    "$$ P(virginica) = \\beta_{intercept_{virginica}}+(\\beta_{Petal\\_Length_{virginica}}*Petal.Length) $$"
   ]
  },
  {
   "cell_type": "code",
   "execution_count": 26,
   "metadata": {},
   "outputs": [
    {
     "data": {
      "text/html": [
       "-0.7154604"
      ],
      "text/latex": [
       "-0.7154604"
      ],
      "text/markdown": [
       "-0.7154604"
      ],
      "text/plain": [
       "[1] -0.7154604"
      ]
     },
     "metadata": {},
     "output_type": "display_data"
    },
    {
     "data": {
      "text/html": [
       "0.5626428"
      ],
      "text/latex": [
       "0.5626428"
      ],
      "text/markdown": [
       "0.5626428"
      ],
      "text/plain": [
       "[1] 0.5626428"
      ]
     },
     "metadata": {},
     "output_type": "display_data"
    },
    {
     "data": {
      "text/html": [
       "1.1528178"
      ],
      "text/latex": [
       "1.1528178"
      ],
      "text/markdown": [
       "1.1528178"
      ],
      "text/plain": [
       "[1] 1.152818"
      ]
     },
     "metadata": {},
     "output_type": "display_data"
    }
   ],
   "source": [
    "1.26246280 + (-0.24724040 * 8) # setosa\n",
    "0.13018744 + ( 0.05405692 * 8) # versicolor\n",
    "-0.3926502 + ( 0.19318350 * 8) # virginica"
   ]
  },
  {
   "cell_type": "markdown",
   "metadata": {},
   "source": [
    "## $$ \\hat{Y} = A \\hat{\\beta} $$\n",
    "<center>A -- new data point(s) to be predicted</center>"
   ]
  },
  {
   "cell_type": "code",
   "execution_count": 27,
   "metadata": {},
   "outputs": [
    {
     "data": {
      "text/html": [
       "<table class=\"dataframe\">\n",
       "<caption>A matrix: 1 × 2 of type dbl</caption>\n",
       "<tbody>\n",
       "\t<tr><td>8</td><td>1</td></tr>\n",
       "</tbody>\n",
       "</table>\n"
      ],
      "text/latex": [
       "A matrix: 1 × 2 of type dbl\n",
       "\\begin{tabular}{ll}\n",
       "\t 8 & 1\\\\\n",
       "\\end{tabular}\n"
      ],
      "text/markdown": [
       "\n",
       "A matrix: 1 × 2 of type dbl\n",
       "\n",
       "| 8 | 1 |\n",
       "\n"
      ],
      "text/plain": [
       "     [,1] [,2]\n",
       "[1,] 8    1   "
      ]
     },
     "metadata": {},
     "output_type": "display_data"
    },
    {
     "data": {
      "text/html": [
       "<table class=\"dataframe\">\n",
       "<caption>A matrix: 1 × 3 of type dbl</caption>\n",
       "<thead>\n",
       "\t<tr><th scope=col>X.iris.Species.....setosa.....1</th><th scope=col>X.iris.Species.....versicolor.....1</th><th scope=col>X.iris.Species.....virginica.....1</th></tr>\n",
       "</thead>\n",
       "<tbody>\n",
       "\t<tr><td>-0.7154605</td><td>0.5626428</td><td>1.152818</td></tr>\n",
       "</tbody>\n",
       "</table>\n"
      ],
      "text/latex": [
       "A matrix: 1 × 3 of type dbl\n",
       "\\begin{tabular}{lll}\n",
       " X.iris.Species.....setosa.....1 & X.iris.Species.....versicolor.....1 & X.iris.Species.....virginica.....1\\\\\n",
       "\\hline\n",
       "\t -0.7154605 & 0.5626428 & 1.152818\\\\\n",
       "\\end{tabular}\n"
      ],
      "text/markdown": [
       "\n",
       "A matrix: 1 × 3 of type dbl\n",
       "\n",
       "| X.iris.Species.....setosa.....1 | X.iris.Species.....versicolor.....1 | X.iris.Species.....virginica.....1 |\n",
       "|---|---|---|\n",
       "| -0.7154605 | 0.5626428 | 1.152818 |\n",
       "\n"
      ],
      "text/plain": [
       "     X.iris.Species.....setosa.....1 X.iris.Species.....versicolor.....1\n",
       "[1,] -0.7154605                      0.5626428                          \n",
       "     X.iris.Species.....virginica.....1\n",
       "[1,] 1.152818                          "
      ]
     },
     "metadata": {},
     "output_type": "display_data"
    }
   ],
   "source": [
    "X = matrix(c(8,1),ncol=2)\n",
    "X\n",
    "X %*% beta"
   ]
  },
  {
   "cell_type": "markdown",
   "metadata": {},
   "source": [
    "- So Linear Regression prediction values vary from -Inf to Inf.\n",
    "- Unlike Linear Regression, in Logistic Regression the prediction values are bounded between 0 and 1."
   ]
  },
  {
   "cell_type": "markdown",
   "metadata": {},
   "source": [
    "# MNIST\n",
    "MNIST contain 28 X 28 pixels hand-written digits like the below.<br>"
   ]
  },
  {
   "cell_type": "markdown",
   "metadata": {},
   "source": [
    "<img src=\"img/mnist.png\" width=\"500\" align=\"center\"/>"
   ]
  },
  {
   "cell_type": "code",
   "execution_count": 29,
   "metadata": {},
   "outputs": [
    {
     "name": "stderr",
     "output_type": "stream",
     "text": [
      "Warning message:\n",
      "\"package 'keras' was built under R version 4.1.3\"\n",
      "Warning message:\n",
      "\"package 'MASS' was built under R version 4.1.3\"\n"
     ]
    }
   ],
   "source": [
    "library('keras') # package to import data, and reshape it\n",
    "library('MASS') # package to calculate pseudo inverse"
   ]
  },
  {
   "cell_type": "code",
   "execution_count": 30,
   "metadata": {},
   "outputs": [
    {
     "name": "stderr",
     "output_type": "stream",
     "text": [
      "Loaded Tensorflow version 2.6.0\n",
      "\n"
     ]
    }
   ],
   "source": [
    "mnist <- dataset_mnist() # loading data -- function present in keras package"
   ]
  },
  {
   "cell_type": "markdown",
   "metadata": {},
   "source": [
    "mnist variables is a list which contains 2 data frames - a training set and a test set.<br>\n",
    "\"$x$\" and \"$y$\" are explanatory and response variables in each set."
   ]
  },
  {
   "cell_type": "code",
   "execution_count": 31,
   "metadata": {},
   "outputs": [
    {
     "name": "stdout",
     "output_type": "stream",
     "text": [
      "List of 2\n",
      " $ train:List of 2\n",
      "  ..$ x: int [1:60000, 1:28, 1:28] 0 0 0 0 0 0 0 0 0 0 ...\n",
      "  ..$ y: int [1:60000(1d)] 5 0 4 1 9 2 1 3 1 4 ...\n",
      " $ test :List of 2\n",
      "  ..$ x: int [1:10000, 1:28, 1:28] 0 0 0 0 0 0 0 0 0 0 ...\n",
      "  ..$ y: int [1:10000(1d)] 7 2 1 0 4 1 4 9 5 9 ...\n"
     ]
    }
   ],
   "source": [
    "str(mnist)"
   ]
  },
  {
   "cell_type": "code",
   "execution_count": 32,
   "metadata": {},
   "outputs": [
    {
     "data": {
      "text/html": [
       "<table class=\"dataframe\">\n",
       "<caption>A matrix: 28 × 28 of type int</caption>\n",
       "<tbody>\n",
       "\t<tr><td>0</td><td>0</td><td>0</td><td>0</td><td>  0</td><td>  0</td><td>  0</td><td>  0</td><td>  0</td><td>  0</td><td>...</td><td>  0</td><td>  0</td><td>  0</td><td>  0</td><td>  0</td><td>  0</td><td>0</td><td>0</td><td>0</td><td>0</td></tr>\n",
       "\t<tr><td>0</td><td>0</td><td>0</td><td>0</td><td>  0</td><td>  0</td><td>  0</td><td>  0</td><td>  0</td><td>  0</td><td>...</td><td>  0</td><td>  0</td><td>  0</td><td>  0</td><td>  0</td><td>  0</td><td>0</td><td>0</td><td>0</td><td>0</td></tr>\n",
       "\t<tr><td>0</td><td>0</td><td>0</td><td>0</td><td>  0</td><td>  0</td><td>  0</td><td>  0</td><td>  0</td><td>  0</td><td>...</td><td>  0</td><td>  0</td><td>  0</td><td>  0</td><td>  0</td><td>  0</td><td>0</td><td>0</td><td>0</td><td>0</td></tr>\n",
       "\t<tr><td>0</td><td>0</td><td>0</td><td>0</td><td>  0</td><td>  0</td><td>  0</td><td>  0</td><td>  0</td><td>  0</td><td>...</td><td>  0</td><td>  0</td><td>  0</td><td>  0</td><td>  0</td><td>  0</td><td>0</td><td>0</td><td>0</td><td>0</td></tr>\n",
       "\t<tr><td>0</td><td>0</td><td>0</td><td>0</td><td>  0</td><td>  0</td><td>  0</td><td>  0</td><td>  0</td><td>  0</td><td>...</td><td>  0</td><td>  0</td><td>  0</td><td>  0</td><td>  0</td><td>  0</td><td>0</td><td>0</td><td>0</td><td>0</td></tr>\n",
       "\t<tr><td>0</td><td>0</td><td>0</td><td>0</td><td>  0</td><td>  0</td><td>  0</td><td>  0</td><td>  0</td><td>  0</td><td>...</td><td>175</td><td> 26</td><td>166</td><td>255</td><td>247</td><td>127</td><td>0</td><td>0</td><td>0</td><td>0</td></tr>\n",
       "\t<tr><td>0</td><td>0</td><td>0</td><td>0</td><td>  0</td><td>  0</td><td>  0</td><td>  0</td><td> 30</td><td> 36</td><td>...</td><td>225</td><td>172</td><td>253</td><td>242</td><td>195</td><td> 64</td><td>0</td><td>0</td><td>0</td><td>0</td></tr>\n",
       "\t<tr><td>0</td><td>0</td><td>0</td><td>0</td><td>  0</td><td>  0</td><td>  0</td><td> 49</td><td>238</td><td>253</td><td>...</td><td> 93</td><td> 82</td><td> 82</td><td> 56</td><td> 39</td><td>  0</td><td>0</td><td>0</td><td>0</td><td>0</td></tr>\n",
       "\t<tr><td>0</td><td>0</td><td>0</td><td>0</td><td>  0</td><td>  0</td><td>  0</td><td> 18</td><td>219</td><td>253</td><td>...</td><td>  0</td><td>  0</td><td>  0</td><td>  0</td><td>  0</td><td>  0</td><td>0</td><td>0</td><td>0</td><td>0</td></tr>\n",
       "\t<tr><td>0</td><td>0</td><td>0</td><td>0</td><td>  0</td><td>  0</td><td>  0</td><td>  0</td><td> 80</td><td>156</td><td>...</td><td>  0</td><td>  0</td><td>  0</td><td>  0</td><td>  0</td><td>  0</td><td>0</td><td>0</td><td>0</td><td>0</td></tr>\n",
       "\t<tr><td>0</td><td>0</td><td>0</td><td>0</td><td>  0</td><td>  0</td><td>  0</td><td>  0</td><td>  0</td><td> 14</td><td>...</td><td>  0</td><td>  0</td><td>  0</td><td>  0</td><td>  0</td><td>  0</td><td>0</td><td>0</td><td>0</td><td>0</td></tr>\n",
       "\t<tr><td>0</td><td>0</td><td>0</td><td>0</td><td>  0</td><td>  0</td><td>  0</td><td>  0</td><td>  0</td><td>  0</td><td>...</td><td>  0</td><td>  0</td><td>  0</td><td>  0</td><td>  0</td><td>  0</td><td>0</td><td>0</td><td>0</td><td>0</td></tr>\n",
       "\t<tr><td>0</td><td>0</td><td>0</td><td>0</td><td>  0</td><td>  0</td><td>  0</td><td>  0</td><td>  0</td><td>  0</td><td>...</td><td>  0</td><td>  0</td><td>  0</td><td>  0</td><td>  0</td><td>  0</td><td>0</td><td>0</td><td>0</td><td>0</td></tr>\n",
       "\t<tr><td>0</td><td>0</td><td>0</td><td>0</td><td>  0</td><td>  0</td><td>  0</td><td>  0</td><td>  0</td><td>  0</td><td>...</td><td>  0</td><td>  0</td><td>  0</td><td>  0</td><td>  0</td><td>  0</td><td>0</td><td>0</td><td>0</td><td>0</td></tr>\n",
       "\t<tr><td>0</td><td>0</td><td>0</td><td>0</td><td>  0</td><td>  0</td><td>  0</td><td>  0</td><td>  0</td><td>  0</td><td>...</td><td> 25</td><td>  0</td><td>  0</td><td>  0</td><td>  0</td><td>  0</td><td>0</td><td>0</td><td>0</td><td>0</td></tr>\n",
       "\t<tr><td>0</td><td>0</td><td>0</td><td>0</td><td>  0</td><td>  0</td><td>  0</td><td>  0</td><td>  0</td><td>  0</td><td>...</td><td>150</td><td> 27</td><td>  0</td><td>  0</td><td>  0</td><td>  0</td><td>0</td><td>0</td><td>0</td><td>0</td></tr>\n",
       "\t<tr><td>0</td><td>0</td><td>0</td><td>0</td><td>  0</td><td>  0</td><td>  0</td><td>  0</td><td>  0</td><td>  0</td><td>...</td><td>253</td><td>187</td><td>  0</td><td>  0</td><td>  0</td><td>  0</td><td>0</td><td>0</td><td>0</td><td>0</td></tr>\n",
       "\t<tr><td>0</td><td>0</td><td>0</td><td>0</td><td>  0</td><td>  0</td><td>  0</td><td>  0</td><td>  0</td><td>  0</td><td>...</td><td>253</td><td>249</td><td> 64</td><td>  0</td><td>  0</td><td>  0</td><td>0</td><td>0</td><td>0</td><td>0</td></tr>\n",
       "\t<tr><td>0</td><td>0</td><td>0</td><td>0</td><td>  0</td><td>  0</td><td>  0</td><td>  0</td><td>  0</td><td>  0</td><td>...</td><td>253</td><td>207</td><td>  2</td><td>  0</td><td>  0</td><td>  0</td><td>0</td><td>0</td><td>0</td><td>0</td></tr>\n",
       "\t<tr><td>0</td><td>0</td><td>0</td><td>0</td><td>  0</td><td>  0</td><td>  0</td><td>  0</td><td>  0</td><td>  0</td><td>...</td><td>250</td><td>182</td><td>  0</td><td>  0</td><td>  0</td><td>  0</td><td>0</td><td>0</td><td>0</td><td>0</td></tr>\n",
       "\t<tr><td>0</td><td>0</td><td>0</td><td>0</td><td>  0</td><td>  0</td><td>  0</td><td>  0</td><td>  0</td><td>  0</td><td>...</td><td> 78</td><td>  0</td><td>  0</td><td>  0</td><td>  0</td><td>  0</td><td>0</td><td>0</td><td>0</td><td>0</td></tr>\n",
       "\t<tr><td>0</td><td>0</td><td>0</td><td>0</td><td>  0</td><td>  0</td><td>  0</td><td>  0</td><td> 23</td><td> 66</td><td>...</td><td>  0</td><td>  0</td><td>  0</td><td>  0</td><td>  0</td><td>  0</td><td>0</td><td>0</td><td>0</td><td>0</td></tr>\n",
       "\t<tr><td>0</td><td>0</td><td>0</td><td>0</td><td>  0</td><td>  0</td><td> 18</td><td>171</td><td>219</td><td>253</td><td>...</td><td>  0</td><td>  0</td><td>  0</td><td>  0</td><td>  0</td><td>  0</td><td>0</td><td>0</td><td>0</td><td>0</td></tr>\n",
       "\t<tr><td>0</td><td>0</td><td>0</td><td>0</td><td> 55</td><td>172</td><td>226</td><td>253</td><td>253</td><td>253</td><td>...</td><td>  0</td><td>  0</td><td>  0</td><td>  0</td><td>  0</td><td>  0</td><td>0</td><td>0</td><td>0</td><td>0</td></tr>\n",
       "\t<tr><td>0</td><td>0</td><td>0</td><td>0</td><td>136</td><td>253</td><td>253</td><td>253</td><td>212</td><td>135</td><td>...</td><td>  0</td><td>  0</td><td>  0</td><td>  0</td><td>  0</td><td>  0</td><td>0</td><td>0</td><td>0</td><td>0</td></tr>\n",
       "\t<tr><td>0</td><td>0</td><td>0</td><td>0</td><td>  0</td><td>  0</td><td>  0</td><td>  0</td><td>  0</td><td>  0</td><td>...</td><td>  0</td><td>  0</td><td>  0</td><td>  0</td><td>  0</td><td>  0</td><td>0</td><td>0</td><td>0</td><td>0</td></tr>\n",
       "\t<tr><td>0</td><td>0</td><td>0</td><td>0</td><td>  0</td><td>  0</td><td>  0</td><td>  0</td><td>  0</td><td>  0</td><td>...</td><td>  0</td><td>  0</td><td>  0</td><td>  0</td><td>  0</td><td>  0</td><td>0</td><td>0</td><td>0</td><td>0</td></tr>\n",
       "\t<tr><td>0</td><td>0</td><td>0</td><td>0</td><td>  0</td><td>  0</td><td>  0</td><td>  0</td><td>  0</td><td>  0</td><td>...</td><td>  0</td><td>  0</td><td>  0</td><td>  0</td><td>  0</td><td>  0</td><td>0</td><td>0</td><td>0</td><td>0</td></tr>\n",
       "</tbody>\n",
       "</table>\n"
      ],
      "text/latex": [
       "A matrix: 28 × 28 of type int\n",
       "\\begin{tabular}{lllllllllllllllllllll}\n",
       "\t 0 & 0 & 0 & 0 &   0 &   0 &   0 &   0 &   0 &   0 & ... &   0 &   0 &   0 &   0 &   0 &   0 & 0 & 0 & 0 & 0\\\\\n",
       "\t 0 & 0 & 0 & 0 &   0 &   0 &   0 &   0 &   0 &   0 & ... &   0 &   0 &   0 &   0 &   0 &   0 & 0 & 0 & 0 & 0\\\\\n",
       "\t 0 & 0 & 0 & 0 &   0 &   0 &   0 &   0 &   0 &   0 & ... &   0 &   0 &   0 &   0 &   0 &   0 & 0 & 0 & 0 & 0\\\\\n",
       "\t 0 & 0 & 0 & 0 &   0 &   0 &   0 &   0 &   0 &   0 & ... &   0 &   0 &   0 &   0 &   0 &   0 & 0 & 0 & 0 & 0\\\\\n",
       "\t 0 & 0 & 0 & 0 &   0 &   0 &   0 &   0 &   0 &   0 & ... &   0 &   0 &   0 &   0 &   0 &   0 & 0 & 0 & 0 & 0\\\\\n",
       "\t 0 & 0 & 0 & 0 &   0 &   0 &   0 &   0 &   0 &   0 & ... & 175 &  26 & 166 & 255 & 247 & 127 & 0 & 0 & 0 & 0\\\\\n",
       "\t 0 & 0 & 0 & 0 &   0 &   0 &   0 &   0 &  30 &  36 & ... & 225 & 172 & 253 & 242 & 195 &  64 & 0 & 0 & 0 & 0\\\\\n",
       "\t 0 & 0 & 0 & 0 &   0 &   0 &   0 &  49 & 238 & 253 & ... &  93 &  82 &  82 &  56 &  39 &   0 & 0 & 0 & 0 & 0\\\\\n",
       "\t 0 & 0 & 0 & 0 &   0 &   0 &   0 &  18 & 219 & 253 & ... &   0 &   0 &   0 &   0 &   0 &   0 & 0 & 0 & 0 & 0\\\\\n",
       "\t 0 & 0 & 0 & 0 &   0 &   0 &   0 &   0 &  80 & 156 & ... &   0 &   0 &   0 &   0 &   0 &   0 & 0 & 0 & 0 & 0\\\\\n",
       "\t 0 & 0 & 0 & 0 &   0 &   0 &   0 &   0 &   0 &  14 & ... &   0 &   0 &   0 &   0 &   0 &   0 & 0 & 0 & 0 & 0\\\\\n",
       "\t 0 & 0 & 0 & 0 &   0 &   0 &   0 &   0 &   0 &   0 & ... &   0 &   0 &   0 &   0 &   0 &   0 & 0 & 0 & 0 & 0\\\\\n",
       "\t 0 & 0 & 0 & 0 &   0 &   0 &   0 &   0 &   0 &   0 & ... &   0 &   0 &   0 &   0 &   0 &   0 & 0 & 0 & 0 & 0\\\\\n",
       "\t 0 & 0 & 0 & 0 &   0 &   0 &   0 &   0 &   0 &   0 & ... &   0 &   0 &   0 &   0 &   0 &   0 & 0 & 0 & 0 & 0\\\\\n",
       "\t 0 & 0 & 0 & 0 &   0 &   0 &   0 &   0 &   0 &   0 & ... &  25 &   0 &   0 &   0 &   0 &   0 & 0 & 0 & 0 & 0\\\\\n",
       "\t 0 & 0 & 0 & 0 &   0 &   0 &   0 &   0 &   0 &   0 & ... & 150 &  27 &   0 &   0 &   0 &   0 & 0 & 0 & 0 & 0\\\\\n",
       "\t 0 & 0 & 0 & 0 &   0 &   0 &   0 &   0 &   0 &   0 & ... & 253 & 187 &   0 &   0 &   0 &   0 & 0 & 0 & 0 & 0\\\\\n",
       "\t 0 & 0 & 0 & 0 &   0 &   0 &   0 &   0 &   0 &   0 & ... & 253 & 249 &  64 &   0 &   0 &   0 & 0 & 0 & 0 & 0\\\\\n",
       "\t 0 & 0 & 0 & 0 &   0 &   0 &   0 &   0 &   0 &   0 & ... & 253 & 207 &   2 &   0 &   0 &   0 & 0 & 0 & 0 & 0\\\\\n",
       "\t 0 & 0 & 0 & 0 &   0 &   0 &   0 &   0 &   0 &   0 & ... & 250 & 182 &   0 &   0 &   0 &   0 & 0 & 0 & 0 & 0\\\\\n",
       "\t 0 & 0 & 0 & 0 &   0 &   0 &   0 &   0 &   0 &   0 & ... &  78 &   0 &   0 &   0 &   0 &   0 & 0 & 0 & 0 & 0\\\\\n",
       "\t 0 & 0 & 0 & 0 &   0 &   0 &   0 &   0 &  23 &  66 & ... &   0 &   0 &   0 &   0 &   0 &   0 & 0 & 0 & 0 & 0\\\\\n",
       "\t 0 & 0 & 0 & 0 &   0 &   0 &  18 & 171 & 219 & 253 & ... &   0 &   0 &   0 &   0 &   0 &   0 & 0 & 0 & 0 & 0\\\\\n",
       "\t 0 & 0 & 0 & 0 &  55 & 172 & 226 & 253 & 253 & 253 & ... &   0 &   0 &   0 &   0 &   0 &   0 & 0 & 0 & 0 & 0\\\\\n",
       "\t 0 & 0 & 0 & 0 & 136 & 253 & 253 & 253 & 212 & 135 & ... &   0 &   0 &   0 &   0 &   0 &   0 & 0 & 0 & 0 & 0\\\\\n",
       "\t 0 & 0 & 0 & 0 &   0 &   0 &   0 &   0 &   0 &   0 & ... &   0 &   0 &   0 &   0 &   0 &   0 & 0 & 0 & 0 & 0\\\\\n",
       "\t 0 & 0 & 0 & 0 &   0 &   0 &   0 &   0 &   0 &   0 & ... &   0 &   0 &   0 &   0 &   0 &   0 & 0 & 0 & 0 & 0\\\\\n",
       "\t 0 & 0 & 0 & 0 &   0 &   0 &   0 &   0 &   0 &   0 & ... &   0 &   0 &   0 &   0 &   0 &   0 & 0 & 0 & 0 & 0\\\\\n",
       "\\end{tabular}\n"
      ],
      "text/markdown": [
       "\n",
       "A matrix: 28 × 28 of type int\n",
       "\n",
       "| 0 | 0 | 0 | 0 |   0 |   0 |   0 |   0 |   0 |   0 | ... |   0 |   0 |   0 |   0 |   0 |   0 | 0 | 0 | 0 | 0 |\n",
       "| 0 | 0 | 0 | 0 |   0 |   0 |   0 |   0 |   0 |   0 | ... |   0 |   0 |   0 |   0 |   0 |   0 | 0 | 0 | 0 | 0 |\n",
       "| 0 | 0 | 0 | 0 |   0 |   0 |   0 |   0 |   0 |   0 | ... |   0 |   0 |   0 |   0 |   0 |   0 | 0 | 0 | 0 | 0 |\n",
       "| 0 | 0 | 0 | 0 |   0 |   0 |   0 |   0 |   0 |   0 | ... |   0 |   0 |   0 |   0 |   0 |   0 | 0 | 0 | 0 | 0 |\n",
       "| 0 | 0 | 0 | 0 |   0 |   0 |   0 |   0 |   0 |   0 | ... |   0 |   0 |   0 |   0 |   0 |   0 | 0 | 0 | 0 | 0 |\n",
       "| 0 | 0 | 0 | 0 |   0 |   0 |   0 |   0 |   0 |   0 | ... | 175 |  26 | 166 | 255 | 247 | 127 | 0 | 0 | 0 | 0 |\n",
       "| 0 | 0 | 0 | 0 |   0 |   0 |   0 |   0 |  30 |  36 | ... | 225 | 172 | 253 | 242 | 195 |  64 | 0 | 0 | 0 | 0 |\n",
       "| 0 | 0 | 0 | 0 |   0 |   0 |   0 |  49 | 238 | 253 | ... |  93 |  82 |  82 |  56 |  39 |   0 | 0 | 0 | 0 | 0 |\n",
       "| 0 | 0 | 0 | 0 |   0 |   0 |   0 |  18 | 219 | 253 | ... |   0 |   0 |   0 |   0 |   0 |   0 | 0 | 0 | 0 | 0 |\n",
       "| 0 | 0 | 0 | 0 |   0 |   0 |   0 |   0 |  80 | 156 | ... |   0 |   0 |   0 |   0 |   0 |   0 | 0 | 0 | 0 | 0 |\n",
       "| 0 | 0 | 0 | 0 |   0 |   0 |   0 |   0 |   0 |  14 | ... |   0 |   0 |   0 |   0 |   0 |   0 | 0 | 0 | 0 | 0 |\n",
       "| 0 | 0 | 0 | 0 |   0 |   0 |   0 |   0 |   0 |   0 | ... |   0 |   0 |   0 |   0 |   0 |   0 | 0 | 0 | 0 | 0 |\n",
       "| 0 | 0 | 0 | 0 |   0 |   0 |   0 |   0 |   0 |   0 | ... |   0 |   0 |   0 |   0 |   0 |   0 | 0 | 0 | 0 | 0 |\n",
       "| 0 | 0 | 0 | 0 |   0 |   0 |   0 |   0 |   0 |   0 | ... |   0 |   0 |   0 |   0 |   0 |   0 | 0 | 0 | 0 | 0 |\n",
       "| 0 | 0 | 0 | 0 |   0 |   0 |   0 |   0 |   0 |   0 | ... |  25 |   0 |   0 |   0 |   0 |   0 | 0 | 0 | 0 | 0 |\n",
       "| 0 | 0 | 0 | 0 |   0 |   0 |   0 |   0 |   0 |   0 | ... | 150 |  27 |   0 |   0 |   0 |   0 | 0 | 0 | 0 | 0 |\n",
       "| 0 | 0 | 0 | 0 |   0 |   0 |   0 |   0 |   0 |   0 | ... | 253 | 187 |   0 |   0 |   0 |   0 | 0 | 0 | 0 | 0 |\n",
       "| 0 | 0 | 0 | 0 |   0 |   0 |   0 |   0 |   0 |   0 | ... | 253 | 249 |  64 |   0 |   0 |   0 | 0 | 0 | 0 | 0 |\n",
       "| 0 | 0 | 0 | 0 |   0 |   0 |   0 |   0 |   0 |   0 | ... | 253 | 207 |   2 |   0 |   0 |   0 | 0 | 0 | 0 | 0 |\n",
       "| 0 | 0 | 0 | 0 |   0 |   0 |   0 |   0 |   0 |   0 | ... | 250 | 182 |   0 |   0 |   0 |   0 | 0 | 0 | 0 | 0 |\n",
       "| 0 | 0 | 0 | 0 |   0 |   0 |   0 |   0 |   0 |   0 | ... |  78 |   0 |   0 |   0 |   0 |   0 | 0 | 0 | 0 | 0 |\n",
       "| 0 | 0 | 0 | 0 |   0 |   0 |   0 |   0 |  23 |  66 | ... |   0 |   0 |   0 |   0 |   0 |   0 | 0 | 0 | 0 | 0 |\n",
       "| 0 | 0 | 0 | 0 |   0 |   0 |  18 | 171 | 219 | 253 | ... |   0 |   0 |   0 |   0 |   0 |   0 | 0 | 0 | 0 | 0 |\n",
       "| 0 | 0 | 0 | 0 |  55 | 172 | 226 | 253 | 253 | 253 | ... |   0 |   0 |   0 |   0 |   0 |   0 | 0 | 0 | 0 | 0 |\n",
       "| 0 | 0 | 0 | 0 | 136 | 253 | 253 | 253 | 212 | 135 | ... |   0 |   0 |   0 |   0 |   0 |   0 | 0 | 0 | 0 | 0 |\n",
       "| 0 | 0 | 0 | 0 |   0 |   0 |   0 |   0 |   0 |   0 | ... |   0 |   0 |   0 |   0 |   0 |   0 | 0 | 0 | 0 | 0 |\n",
       "| 0 | 0 | 0 | 0 |   0 |   0 |   0 |   0 |   0 |   0 | ... |   0 |   0 |   0 |   0 |   0 |   0 | 0 | 0 | 0 | 0 |\n",
       "| 0 | 0 | 0 | 0 |   0 |   0 |   0 |   0 |   0 |   0 | ... |   0 |   0 |   0 |   0 |   0 |   0 | 0 | 0 | 0 | 0 |\n",
       "\n"
      ],
      "text/plain": [
       "      [,1] [,2] [,3] [,4] [,5] [,6] [,7] [,8] [,9] [,10] [,11] [,12] [,13]\n",
       " [1,] 0    0    0    0      0    0    0    0    0    0   ...     0     0  \n",
       " [2,] 0    0    0    0      0    0    0    0    0    0   ...     0     0  \n",
       " [3,] 0    0    0    0      0    0    0    0    0    0   ...     0     0  \n",
       " [4,] 0    0    0    0      0    0    0    0    0    0   ...     0     0  \n",
       " [5,] 0    0    0    0      0    0    0    0    0    0   ...     0     0  \n",
       " [6,] 0    0    0    0      0    0    0    0    0    0   ...   175    26  \n",
       " [7,] 0    0    0    0      0    0    0    0   30   36   ...   225   172  \n",
       " [8,] 0    0    0    0      0    0    0   49  238  253   ...    93    82  \n",
       " [9,] 0    0    0    0      0    0    0   18  219  253   ...     0     0  \n",
       "[10,] 0    0    0    0      0    0    0    0   80  156   ...     0     0  \n",
       "[11,] 0    0    0    0      0    0    0    0    0   14   ...     0     0  \n",
       "[12,] 0    0    0    0      0    0    0    0    0    0   ...     0     0  \n",
       "[13,] 0    0    0    0      0    0    0    0    0    0   ...     0     0  \n",
       "[14,] 0    0    0    0      0    0    0    0    0    0   ...     0     0  \n",
       "[15,] 0    0    0    0      0    0    0    0    0    0   ...    25     0  \n",
       "[16,] 0    0    0    0      0    0    0    0    0    0   ...   150    27  \n",
       "[17,] 0    0    0    0      0    0    0    0    0    0   ...   253   187  \n",
       "[18,] 0    0    0    0      0    0    0    0    0    0   ...   253   249  \n",
       "[19,] 0    0    0    0      0    0    0    0    0    0   ...   253   207  \n",
       "[20,] 0    0    0    0      0    0    0    0    0    0   ...   250   182  \n",
       "[21,] 0    0    0    0      0    0    0    0    0    0   ...    78     0  \n",
       "[22,] 0    0    0    0      0    0    0    0   23   66   ...     0     0  \n",
       "[23,] 0    0    0    0      0    0   18  171  219  253   ...     0     0  \n",
       "[24,] 0    0    0    0     55  172  226  253  253  253   ...     0     0  \n",
       "[25,] 0    0    0    0    136  253  253  253  212  135   ...     0     0  \n",
       "[26,] 0    0    0    0      0    0    0    0    0    0   ...     0     0  \n",
       "[27,] 0    0    0    0      0    0    0    0    0    0   ...     0     0  \n",
       "[28,] 0    0    0    0      0    0    0    0    0    0   ...     0     0  \n",
       "      [,14] [,15] [,16] [,17] [,18] [,19] [,20] [,21]\n",
       " [1,]   0     0     0     0   0     0     0     0    \n",
       " [2,]   0     0     0     0   0     0     0     0    \n",
       " [3,]   0     0     0     0   0     0     0     0    \n",
       " [4,]   0     0     0     0   0     0     0     0    \n",
       " [5,]   0     0     0     0   0     0     0     0    \n",
       " [6,] 166   255   247   127   0     0     0     0    \n",
       " [7,] 253   242   195    64   0     0     0     0    \n",
       " [8,]  82    56    39     0   0     0     0     0    \n",
       " [9,]   0     0     0     0   0     0     0     0    \n",
       "[10,]   0     0     0     0   0     0     0     0    \n",
       "[11,]   0     0     0     0   0     0     0     0    \n",
       "[12,]   0     0     0     0   0     0     0     0    \n",
       "[13,]   0     0     0     0   0     0     0     0    \n",
       "[14,]   0     0     0     0   0     0     0     0    \n",
       "[15,]   0     0     0     0   0     0     0     0    \n",
       "[16,]   0     0     0     0   0     0     0     0    \n",
       "[17,]   0     0     0     0   0     0     0     0    \n",
       "[18,]  64     0     0     0   0     0     0     0    \n",
       "[19,]   2     0     0     0   0     0     0     0    \n",
       "[20,]   0     0     0     0   0     0     0     0    \n",
       "[21,]   0     0     0     0   0     0     0     0    \n",
       "[22,]   0     0     0     0   0     0     0     0    \n",
       "[23,]   0     0     0     0   0     0     0     0    \n",
       "[24,]   0     0     0     0   0     0     0     0    \n",
       "[25,]   0     0     0     0   0     0     0     0    \n",
       "[26,]   0     0     0     0   0     0     0     0    \n",
       "[27,]   0     0     0     0   0     0     0     0    \n",
       "[28,]   0     0     0     0   0     0     0     0    "
      ]
     },
     "metadata": {},
     "output_type": "display_data"
    }
   ],
   "source": [
    "mnist$train$x[1,,]"
   ]
  },
  {
   "cell_type": "markdown",
   "metadata": {},
   "source": [
    "### Plotting the 1st digit of MNIST"
   ]
  },
  {
   "cell_type": "code",
   "execution_count": 33,
   "metadata": {},
   "outputs": [
    {
     "name": "stderr",
     "output_type": "stream",
     "text": [
      "Warning message:\n",
      "\"package 'plot.matrix' was built under R version 4.1.3\"\n"
     ]
    },
    {
     "data": {
      "image/png": "[encoded data removed]",
      "text/plain": [
       "Plot with title \"mnist$train$x[1, , ]\""
      ]
     },
     "metadata": {
      "image/png": {
       "height": 420,
       "width": 420
      }
     },
     "output_type": "display_data"
    }
   ],
   "source": [
    "library(\"plot.matrix\")\n",
    "plot(mnist$train$x[1,,])"
   ]
  },
  {
   "cell_type": "markdown",
   "metadata": {},
   "source": [
    "MNIST contain 28 X 28 pixels hand-written digits like the below.<br>\n",
    "$28\\times 28 = 784$ features "
   ]
  },
  {
   "cell_type": "markdown",
   "metadata": {},
   "source": [
    "<img src=\"img/flatten.png\" width=\"90%\"/>"
   ]
  },
  {
   "cell_type": "code",
   "execution_count": 34,
   "metadata": {},
   "outputs": [
    {
     "data": {
      "text/html": [
       "<style>\n",
       ".list-inline {list-style: none; margin:0; padding: 0}\n",
       ".list-inline>li {display: inline-block}\n",
       ".list-inline>li:not(:last-child)::after {content: \"\\00b7\"; padding: 0 .5ex}\n",
       "</style>\n",
       "<ol class=list-inline><li>60000</li><li>28</li><li>28</li></ol>\n"
      ],
      "text/latex": [
       "\\begin{enumerate*}\n",
       "\\item 60000\n",
       "\\item 28\n",
       "\\item 28\n",
       "\\end{enumerate*}\n"
      ],
      "text/markdown": [
       "1. 60000\n",
       "2. 28\n",
       "3. 28\n",
       "\n",
       "\n"
      ],
      "text/plain": [
       "[1] 60000    28    28"
      ]
     },
     "metadata": {},
     "output_type": "display_data"
    },
    {
     "data": {
      "text/html": [
       "<style>\n",
       ".list-inline {list-style: none; margin:0; padding: 0}\n",
       ".list-inline>li {display: inline-block}\n",
       ".list-inline>li:not(:last-child)::after {content: \"\\00b7\"; padding: 0 .5ex}\n",
       "</style>\n",
       "<ol class=list-inline><li>60000</li><li>784</li></ol>\n"
      ],
      "text/latex": [
       "\\begin{enumerate*}\n",
       "\\item 60000\n",
       "\\item 784\n",
       "\\end{enumerate*}\n"
      ],
      "text/markdown": [
       "1. 60000\n",
       "2. 784\n",
       "\n",
       "\n"
      ],
      "text/plain": [
       "[1] 60000   784"
      ]
     },
     "metadata": {},
     "output_type": "display_data"
    }
   ],
   "source": [
    "# flattening 28 X 28 pixels\n",
    "X <- array_reshape( mnist$train$x, c(dim(mnist$train$x)[1], 784) )\n",
    "dim(mnist$train$x)\n",
    "dim(X)"
   ]
  },
  {
   "cell_type": "code",
   "execution_count": 35,
   "metadata": {},
   "outputs": [
    {
     "data": {
      "text/html": [
       "<style>\n",
       ".list-inline {list-style: none; margin:0; padding: 0}\n",
       ".list-inline>li {display: inline-block}\n",
       ".list-inline>li:not(:last-child)::after {content: \"\\00b7\"; padding: 0 .5ex}\n",
       "</style>\n",
       "<ol class=list-inline><li>60000</li><li>785</li></ol>\n"
      ],
      "text/latex": [
       "\\begin{enumerate*}\n",
       "\\item 60000\n",
       "\\item 785\n",
       "\\end{enumerate*}\n"
      ],
      "text/markdown": [
       "1. 60000\n",
       "2. 785\n",
       "\n",
       "\n"
      ],
      "text/plain": [
       "[1] 60000   785"
      ]
     },
     "metadata": {},
     "output_type": "display_data"
    },
    {
     "data": {
      "text/html": [
       "<table class=\"dataframe\">\n",
       "<caption>A matrix: 6 × 785 of type dbl</caption>\n",
       "<tbody>\n",
       "\t<tr><td>1</td><td>0</td><td>0</td><td>0</td><td>0</td><td>0</td><td>0</td><td>0</td><td>0</td><td>0</td><td>...</td><td>0</td><td>0</td><td>0</td><td>0</td><td>0</td><td>0</td><td>0</td><td>0</td><td>0</td><td>0</td></tr>\n",
       "\t<tr><td>1</td><td>0</td><td>0</td><td>0</td><td>0</td><td>0</td><td>0</td><td>0</td><td>0</td><td>0</td><td>...</td><td>0</td><td>0</td><td>0</td><td>0</td><td>0</td><td>0</td><td>0</td><td>0</td><td>0</td><td>0</td></tr>\n",
       "\t<tr><td>1</td><td>0</td><td>0</td><td>0</td><td>0</td><td>0</td><td>0</td><td>0</td><td>0</td><td>0</td><td>...</td><td>0</td><td>0</td><td>0</td><td>0</td><td>0</td><td>0</td><td>0</td><td>0</td><td>0</td><td>0</td></tr>\n",
       "\t<tr><td>1</td><td>0</td><td>0</td><td>0</td><td>0</td><td>0</td><td>0</td><td>0</td><td>0</td><td>0</td><td>...</td><td>0</td><td>0</td><td>0</td><td>0</td><td>0</td><td>0</td><td>0</td><td>0</td><td>0</td><td>0</td></tr>\n",
       "\t<tr><td>1</td><td>0</td><td>0</td><td>0</td><td>0</td><td>0</td><td>0</td><td>0</td><td>0</td><td>0</td><td>...</td><td>0</td><td>0</td><td>0</td><td>0</td><td>0</td><td>0</td><td>0</td><td>0</td><td>0</td><td>0</td></tr>\n",
       "\t<tr><td>1</td><td>0</td><td>0</td><td>0</td><td>0</td><td>0</td><td>0</td><td>0</td><td>0</td><td>0</td><td>...</td><td>0</td><td>0</td><td>0</td><td>0</td><td>0</td><td>0</td><td>0</td><td>0</td><td>0</td><td>0</td></tr>\n",
       "</tbody>\n",
       "</table>\n"
      ],
      "text/latex": [
       "A matrix: 6 × 785 of type dbl\n",
       "\\begin{tabular}{lllllllllllllllllllll}\n",
       "\t 1 & 0 & 0 & 0 & 0 & 0 & 0 & 0 & 0 & 0 & ... & 0 & 0 & 0 & 0 & 0 & 0 & 0 & 0 & 0 & 0\\\\\n",
       "\t 1 & 0 & 0 & 0 & 0 & 0 & 0 & 0 & 0 & 0 & ... & 0 & 0 & 0 & 0 & 0 & 0 & 0 & 0 & 0 & 0\\\\\n",
       "\t 1 & 0 & 0 & 0 & 0 & 0 & 0 & 0 & 0 & 0 & ... & 0 & 0 & 0 & 0 & 0 & 0 & 0 & 0 & 0 & 0\\\\\n",
       "\t 1 & 0 & 0 & 0 & 0 & 0 & 0 & 0 & 0 & 0 & ... & 0 & 0 & 0 & 0 & 0 & 0 & 0 & 0 & 0 & 0\\\\\n",
       "\t 1 & 0 & 0 & 0 & 0 & 0 & 0 & 0 & 0 & 0 & ... & 0 & 0 & 0 & 0 & 0 & 0 & 0 & 0 & 0 & 0\\\\\n",
       "\t 1 & 0 & 0 & 0 & 0 & 0 & 0 & 0 & 0 & 0 & ... & 0 & 0 & 0 & 0 & 0 & 0 & 0 & 0 & 0 & 0\\\\\n",
       "\\end{tabular}\n"
      ],
      "text/markdown": [
       "\n",
       "A matrix: 6 × 785 of type dbl\n",
       "\n",
       "| 1 | 0 | 0 | 0 | 0 | 0 | 0 | 0 | 0 | 0 | ... | 0 | 0 | 0 | 0 | 0 | 0 | 0 | 0 | 0 | 0 |\n",
       "| 1 | 0 | 0 | 0 | 0 | 0 | 0 | 0 | 0 | 0 | ... | 0 | 0 | 0 | 0 | 0 | 0 | 0 | 0 | 0 | 0 |\n",
       "| 1 | 0 | 0 | 0 | 0 | 0 | 0 | 0 | 0 | 0 | ... | 0 | 0 | 0 | 0 | 0 | 0 | 0 | 0 | 0 | 0 |\n",
       "| 1 | 0 | 0 | 0 | 0 | 0 | 0 | 0 | 0 | 0 | ... | 0 | 0 | 0 | 0 | 0 | 0 | 0 | 0 | 0 | 0 |\n",
       "| 1 | 0 | 0 | 0 | 0 | 0 | 0 | 0 | 0 | 0 | ... | 0 | 0 | 0 | 0 | 0 | 0 | 0 | 0 | 0 | 0 |\n",
       "| 1 | 0 | 0 | 0 | 0 | 0 | 0 | 0 | 0 | 0 | ... | 0 | 0 | 0 | 0 | 0 | 0 | 0 | 0 | 0 | 0 |\n",
       "\n"
      ],
      "text/plain": [
       "     [,1] [,2] [,3] [,4] [,5] [,6] [,7] [,8] [,9] [,10] [,11] [,12] [,13] [,14]\n",
       "[1,] 1    0    0    0    0    0    0    0    0    0     ...   0     0     0    \n",
       "[2,] 1    0    0    0    0    0    0    0    0    0     ...   0     0     0    \n",
       "[3,] 1    0    0    0    0    0    0    0    0    0     ...   0     0     0    \n",
       "[4,] 1    0    0    0    0    0    0    0    0    0     ...   0     0     0    \n",
       "[5,] 1    0    0    0    0    0    0    0    0    0     ...   0     0     0    \n",
       "[6,] 1    0    0    0    0    0    0    0    0    0     ...   0     0     0    \n",
       "     [,15] [,16] [,17] [,18] [,19] [,20] [,21]\n",
       "[1,] 0     0     0     0     0     0     0    \n",
       "[2,] 0     0     0     0     0     0     0    \n",
       "[3,] 0     0     0     0     0     0     0    \n",
       "[4,] 0     0     0     0     0     0     0    \n",
       "[5,] 0     0     0     0     0     0     0    \n",
       "[6,] 0     0     0     0     0     0     0    "
      ]
     },
     "metadata": {},
     "output_type": "display_data"
    }
   ],
   "source": [
    "# adding 1s as a feature for the intercept term\n",
    "X = cbind(matrix(rep(1, nrow(X))), X)\n",
    "dim(X)\n",
    "head(X)"
   ]
  },
  {
   "cell_type": "code",
   "execution_count": 36,
   "metadata": {},
   "outputs": [
    {
     "data": {
      "text/html": [
       "<style>\n",
       ".list-inline {list-style: none; margin:0; padding: 0}\n",
       ".list-inline>li {display: inline-block}\n",
       ".list-inline>li:not(:last-child)::after {content: \"\\00b7\"; padding: 0 .5ex}\n",
       "</style>\n",
       "<ol class=list-inline><li>5</li><li>0</li><li>4</li><li>1</li><li>9</li><li>2</li></ol>\n"
      ],
      "text/latex": [
       "\\begin{enumerate*}\n",
       "\\item 5\n",
       "\\item 0\n",
       "\\item 4\n",
       "\\item 1\n",
       "\\item 9\n",
       "\\item 2\n",
       "\\end{enumerate*}\n"
      ],
      "text/markdown": [
       "1. 5\n",
       "2. 0\n",
       "3. 4\n",
       "4. 1\n",
       "5. 9\n",
       "6. 2\n",
       "\n",
       "\n"
      ],
      "text/plain": [
       "[1] 5 0 4 1 9 2"
      ]
     },
     "metadata": {},
     "output_type": "display_data"
    }
   ],
   "source": [
    "# The response variable is the digit number varying from 0 to 9.\n",
    "head(mnist$train$y)"
   ]
  },
  {
   "cell_type": "code",
   "execution_count": 37,
   "metadata": {},
   "outputs": [
    {
     "data": {
      "text/plain": [
       "\n",
       "   0    1    2    3    4    5    6    7    8    9 \n",
       "5923 6742 5958 6131 5842 5421 5918 6265 5851 5949 "
      ]
     },
     "metadata": {},
     "output_type": "display_data"
    }
   ],
   "source": [
    "table(mnist$train$y)"
   ]
  },
  {
   "cell_type": "markdown",
   "metadata": {},
   "source": [
    "## <center>Binary Class Matrix</center>\n",
    "<img src=\"img/categorical_mnist.png\" width=\"90%\"/>"
   ]
  },
  {
   "cell_type": "code",
   "execution_count": 38,
   "metadata": {},
   "outputs": [
    {
     "data": {
      "text/html": [
       "<style>\n",
       ".list-inline {list-style: none; margin:0; padding: 0}\n",
       ".list-inline>li {display: inline-block}\n",
       ".list-inline>li:not(:last-child)::after {content: \"\\00b7\"; padding: 0 .5ex}\n",
       "</style>\n",
       "<ol class=list-inline><li>60000</li><li>10</li></ol>\n"
      ],
      "text/latex": [
       "\\begin{enumerate*}\n",
       "\\item 60000\n",
       "\\item 10\n",
       "\\end{enumerate*}\n"
      ],
      "text/markdown": [
       "1. 60000\n",
       "2. 10\n",
       "\n",
       "\n"
      ],
      "text/plain": [
       "[1] 60000    10"
      ]
     },
     "metadata": {},
     "output_type": "display_data"
    },
    {
     "data": {
      "text/html": [
       "<table class=\"dataframe\">\n",
       "<caption>A matrix: 6 × 10 of type dbl</caption>\n",
       "<tbody>\n",
       "\t<tr><td>0</td><td>0</td><td>0</td><td>0</td><td>0</td><td>1</td><td>0</td><td>0</td><td>0</td><td>0</td></tr>\n",
       "\t<tr><td>1</td><td>0</td><td>0</td><td>0</td><td>0</td><td>0</td><td>0</td><td>0</td><td>0</td><td>0</td></tr>\n",
       "\t<tr><td>0</td><td>0</td><td>0</td><td>0</td><td>1</td><td>0</td><td>0</td><td>0</td><td>0</td><td>0</td></tr>\n",
       "\t<tr><td>0</td><td>1</td><td>0</td><td>0</td><td>0</td><td>0</td><td>0</td><td>0</td><td>0</td><td>0</td></tr>\n",
       "\t<tr><td>0</td><td>0</td><td>0</td><td>0</td><td>0</td><td>0</td><td>0</td><td>0</td><td>0</td><td>1</td></tr>\n",
       "\t<tr><td>0</td><td>0</td><td>1</td><td>0</td><td>0</td><td>0</td><td>0</td><td>0</td><td>0</td><td>0</td></tr>\n",
       "</tbody>\n",
       "</table>\n"
      ],
      "text/latex": [
       "A matrix: 6 × 10 of type dbl\n",
       "\\begin{tabular}{llllllllll}\n",
       "\t 0 & 0 & 0 & 0 & 0 & 1 & 0 & 0 & 0 & 0\\\\\n",
       "\t 1 & 0 & 0 & 0 & 0 & 0 & 0 & 0 & 0 & 0\\\\\n",
       "\t 0 & 0 & 0 & 0 & 1 & 0 & 0 & 0 & 0 & 0\\\\\n",
       "\t 0 & 1 & 0 & 0 & 0 & 0 & 0 & 0 & 0 & 0\\\\\n",
       "\t 0 & 0 & 0 & 0 & 0 & 0 & 0 & 0 & 0 & 1\\\\\n",
       "\t 0 & 0 & 1 & 0 & 0 & 0 & 0 & 0 & 0 & 0\\\\\n",
       "\\end{tabular}\n"
      ],
      "text/markdown": [
       "\n",
       "A matrix: 6 × 10 of type dbl\n",
       "\n",
       "| 0 | 0 | 0 | 0 | 0 | 1 | 0 | 0 | 0 | 0 |\n",
       "| 1 | 0 | 0 | 0 | 0 | 0 | 0 | 0 | 0 | 0 |\n",
       "| 0 | 0 | 0 | 0 | 1 | 0 | 0 | 0 | 0 | 0 |\n",
       "| 0 | 1 | 0 | 0 | 0 | 0 | 0 | 0 | 0 | 0 |\n",
       "| 0 | 0 | 0 | 0 | 0 | 0 | 0 | 0 | 0 | 1 |\n",
       "| 0 | 0 | 1 | 0 | 0 | 0 | 0 | 0 | 0 | 0 |\n",
       "\n"
      ],
      "text/plain": [
       "     [,1] [,2] [,3] [,4] [,5] [,6] [,7] [,8] [,9] [,10]\n",
       "[1,] 0    0    0    0    0    1    0    0    0    0    \n",
       "[2,] 1    0    0    0    0    0    0    0    0    0    \n",
       "[3,] 0    0    0    0    1    0    0    0    0    0    \n",
       "[4,] 0    1    0    0    0    0    0    0    0    0    \n",
       "[5,] 0    0    0    0    0    0    0    0    0    1    \n",
       "[6,] 0    0    1    0    0    0    0    0    0    0    "
      ]
     },
     "metadata": {},
     "output_type": "display_data"
    }
   ],
   "source": [
    "# converting the response column to binary class matrix\n",
    "Y = to_categorical(mnist$train$y) \n",
    "dim(Y)\n",
    "head(Y)"
   ]
  },
  {
   "cell_type": "markdown",
   "metadata": {},
   "source": [
    "## Estimating the Coefficients\n",
    "\n",
    "### $ \\hat{\\beta} = (X^\\top X) ^{-1} X^\\top Y$ \n",
    "but a square matrix is not invertible if its determinant is zero"
   ]
  },
  {
   "cell_type": "code",
   "execution_count": 39,
   "metadata": {},
   "outputs": [
    {
     "data": {
      "text/html": [
       "0"
      ],
      "text/latex": [
       "0"
      ],
      "text/markdown": [
       "0"
      ],
      "text/plain": [
       "[1] 0"
      ]
     },
     "metadata": {},
     "output_type": "display_data"
    }
   ],
   "source": [
    "det( t(X) %*% X ) "
   ]
  },
  {
   "cell_type": "markdown",
   "metadata": {},
   "source": [
    "### [$ X^\\dagger = (X^\\top X) ^{-1} X^\\top $](https://en.wikipedia.org/wiki/Ordinary_least_squares) \n",
    "\n",
    "#### where $X^\\dagger$ is the pseudoinverse.\n",
    "\n",
    "### $ \\hat{\\beta} = X^\\dagger Y $"
   ]
  },
  {
   "cell_type": "code",
   "execution_count": 40,
   "metadata": {},
   "outputs": [],
   "source": [
    "# This may take about two minutes for the whole 60,000 observation dataset \n",
    "pseudoInv = ginv(X)"
   ]
  },
  {
   "cell_type": "code",
   "execution_count": 41,
   "metadata": {},
   "outputs": [
    {
     "data": {
      "text/html": [
       "<style>\n",
       ".list-inline {list-style: none; margin:0; padding: 0}\n",
       ".list-inline>li {display: inline-block}\n",
       ".list-inline>li:not(:last-child)::after {content: \"\\00b7\"; padding: 0 .5ex}\n",
       "</style>\n",
       "<ol class=list-inline><li>785</li><li>10</li></ol>\n"
      ],
      "text/latex": [
       "\\begin{enumerate*}\n",
       "\\item 785\n",
       "\\item 10\n",
       "\\end{enumerate*}\n"
      ],
      "text/markdown": [
       "1. 785\n",
       "2. 10\n",
       "\n",
       "\n"
      ],
      "text/plain": [
       "[1] 785  10"
      ]
     },
     "metadata": {},
     "output_type": "display_data"
    }
   ],
   "source": [
    "beta = pseudoInv %*% Y\n",
    "dim(beta)"
   ]
  },
  {
   "cell_type": "markdown",
   "metadata": {},
   "source": [
    "## $$ \\hat{Y} = A \\hat{\\beta} $$\n",
    "<center>A -- new data point(s) to be predicted</center>"
   ]
  },
  {
   "cell_type": "code",
   "execution_count": 42,
   "metadata": {},
   "outputs": [
    {
     "data": {
      "text/html": [
       "<style>\n",
       ".list-inline {list-style: none; margin:0; padding: 0}\n",
       ".list-inline>li {display: inline-block}\n",
       ".list-inline>li:not(:last-child)::after {content: \"\\00b7\"; padding: 0 .5ex}\n",
       "</style>\n",
       "<ol class=list-inline><li>60000</li><li>10</li></ol>\n"
      ],
      "text/latex": [
       "\\begin{enumerate*}\n",
       "\\item 60000\n",
       "\\item 10\n",
       "\\end{enumerate*}\n"
      ],
      "text/markdown": [
       "1. 60000\n",
       "2. 10\n",
       "\n",
       "\n"
      ],
      "text/plain": [
       "[1] 60000    10"
      ]
     },
     "metadata": {},
     "output_type": "display_data"
    },
    {
     "data": {
      "text/html": [
       "<table class=\"dataframe\">\n",
       "<caption>A matrix: 6 × 10 of type dbl</caption>\n",
       "<tbody>\n",
       "\t<tr><td> 0.08644075</td><td>0.004766444</td><td>-0.09447354</td><td> 0.431714569</td><td>-0.20754587</td><td> 0.51117534</td><td> 0.18425632</td><td>0.31506050</td><td>-0.12973360</td><td>-0.10166092</td></tr>\n",
       "\t<tr><td> 0.88688181</td><td>0.061572969</td><td>-0.09623659</td><td> 0.007236001</td><td>-0.08835300</td><td> 0.02534450</td><td> 0.03593482</td><td>0.11064445</td><td>-0.03883734</td><td> 0.09581239</td></tr>\n",
       "\t<tr><td>-0.07409443</td><td>0.093421749</td><td> 0.16155879</td><td> 0.170990580</td><td> 0.68516906</td><td>-0.05337708</td><td>-0.01430479</td><td>0.20999633</td><td>-0.02298965</td><td>-0.15637055</td></tr>\n",
       "\t<tr><td>-0.05834299</td><td>0.686115111</td><td> 0.08892267</td><td> 0.042920041</td><td> 0.08882102</td><td> 0.03322134</td><td> 0.01295888</td><td>0.02851605</td><td> 0.17076923</td><td>-0.09390134</td></tr>\n",
       "\t<tr><td> 0.08575935</td><td>0.101719175</td><td>-0.02161877</td><td>-0.162229749</td><td> 0.16495547</td><td>-0.08989457</td><td>-0.02415261</td><td>0.17355926</td><td> 0.09737054</td><td> 0.67453190</td></tr>\n",
       "\t<tr><td> 0.09661197</td><td>0.027554654</td><td> 0.61565856</td><td>-0.123091399</td><td>-0.01691397</td><td> 0.12897129</td><td>-0.10264751</td><td>0.06560043</td><td> 0.00756575</td><td> 0.30069023</td></tr>\n",
       "</tbody>\n",
       "</table>\n"
      ],
      "text/latex": [
       "A matrix: 6 × 10 of type dbl\n",
       "\\begin{tabular}{llllllllll}\n",
       "\t  0.08644075 & 0.004766444 & -0.09447354 &  0.431714569 & -0.20754587 &  0.51117534 &  0.18425632 & 0.31506050 & -0.12973360 & -0.10166092\\\\\n",
       "\t  0.88688181 & 0.061572969 & -0.09623659 &  0.007236001 & -0.08835300 &  0.02534450 &  0.03593482 & 0.11064445 & -0.03883734 &  0.09581239\\\\\n",
       "\t -0.07409443 & 0.093421749 &  0.16155879 &  0.170990580 &  0.68516906 & -0.05337708 & -0.01430479 & 0.20999633 & -0.02298965 & -0.15637055\\\\\n",
       "\t -0.05834299 & 0.686115111 &  0.08892267 &  0.042920041 &  0.08882102 &  0.03322134 &  0.01295888 & 0.02851605 &  0.17076923 & -0.09390134\\\\\n",
       "\t  0.08575935 & 0.101719175 & -0.02161877 & -0.162229749 &  0.16495547 & -0.08989457 & -0.02415261 & 0.17355926 &  0.09737054 &  0.67453190\\\\\n",
       "\t  0.09661197 & 0.027554654 &  0.61565856 & -0.123091399 & -0.01691397 &  0.12897129 & -0.10264751 & 0.06560043 &  0.00756575 &  0.30069023\\\\\n",
       "\\end{tabular}\n"
      ],
      "text/markdown": [
       "\n",
       "A matrix: 6 × 10 of type dbl\n",
       "\n",
       "|  0.08644075 | 0.004766444 | -0.09447354 |  0.431714569 | -0.20754587 |  0.51117534 |  0.18425632 | 0.31506050 | -0.12973360 | -0.10166092 |\n",
       "|  0.88688181 | 0.061572969 | -0.09623659 |  0.007236001 | -0.08835300 |  0.02534450 |  0.03593482 | 0.11064445 | -0.03883734 |  0.09581239 |\n",
       "| -0.07409443 | 0.093421749 |  0.16155879 |  0.170990580 |  0.68516906 | -0.05337708 | -0.01430479 | 0.20999633 | -0.02298965 | -0.15637055 |\n",
       "| -0.05834299 | 0.686115111 |  0.08892267 |  0.042920041 |  0.08882102 |  0.03322134 |  0.01295888 | 0.02851605 |  0.17076923 | -0.09390134 |\n",
       "|  0.08575935 | 0.101719175 | -0.02161877 | -0.162229749 |  0.16495547 | -0.08989457 | -0.02415261 | 0.17355926 |  0.09737054 |  0.67453190 |\n",
       "|  0.09661197 | 0.027554654 |  0.61565856 | -0.123091399 | -0.01691397 |  0.12897129 | -0.10264751 | 0.06560043 |  0.00756575 |  0.30069023 |\n",
       "\n"
      ],
      "text/plain": [
       "     [,1]        [,2]        [,3]        [,4]         [,5]        [,6]       \n",
       "[1,]  0.08644075 0.004766444 -0.09447354  0.431714569 -0.20754587  0.51117534\n",
       "[2,]  0.88688181 0.061572969 -0.09623659  0.007236001 -0.08835300  0.02534450\n",
       "[3,] -0.07409443 0.093421749  0.16155879  0.170990580  0.68516906 -0.05337708\n",
       "[4,] -0.05834299 0.686115111  0.08892267  0.042920041  0.08882102  0.03322134\n",
       "[5,]  0.08575935 0.101719175 -0.02161877 -0.162229749  0.16495547 -0.08989457\n",
       "[6,]  0.09661197 0.027554654  0.61565856 -0.123091399 -0.01691397  0.12897129\n",
       "     [,7]        [,8]       [,9]        [,10]      \n",
       "[1,]  0.18425632 0.31506050 -0.12973360 -0.10166092\n",
       "[2,]  0.03593482 0.11064445 -0.03883734  0.09581239\n",
       "[3,] -0.01430479 0.20999633 -0.02298965 -0.15637055\n",
       "[4,]  0.01295888 0.02851605  0.17076923 -0.09390134\n",
       "[5,] -0.02415261 0.17355926  0.09737054  0.67453190\n",
       "[6,] -0.10264751 0.06560043  0.00756575  0.30069023"
      ]
     },
     "metadata": {},
     "output_type": "display_data"
    }
   ],
   "source": [
    "pred = X %*% beta\n",
    "dim(pred)\n",
    "head(pred)"
   ]
  },
  {
   "cell_type": "code",
   "execution_count": 43,
   "metadata": {},
   "outputs": [
    {
     "data": {
      "text/plain": [
       "   \n",
       "       0    1    2    3    4    5    6    7    8    9\n",
       "  0 5682    7   18   14   24   43   64    4   61    6\n",
       "  1    2 6548   40   15   19   31   14   12   55    6\n",
       "  2   99  264 4792  149  108   11  234   91  192   18\n",
       "  3   42  167  176 5158   32  125   56  115  135  125\n",
       "  4   10   99   42    6 5212   50   39   23   59  302\n",
       "  5  164   95   28  432  105 3991  192   36  235  143\n",
       "  6  108   74   61    1   70   90 5476    0   35    3\n",
       "  7   55  189   37   47  170    9    2 5426   10  320\n",
       "  8   75  493   63  226  105  221   56   20 4412  180\n",
       "  9   68   60   20  117  371   12    4  492   38 4767"
      ]
     },
     "metadata": {},
     "output_type": "display_data"
    },
    {
     "data": {
      "text/html": [
       "0.857733333333333"
      ],
      "text/latex": [
       "0.857733333333333"
      ],
      "text/markdown": [
       "0.857733333333333"
      ],
      "text/plain": [
       "[1] 0.8577333"
      ]
     },
     "metadata": {},
     "output_type": "display_data"
    }
   ],
   "source": [
    "# \"pred\" is a number proportional to the possibility of an instance belonging to a digit. \n",
    "# we classify the instance into that class which is maximum \n",
    "table(mnist$train$y, apply(pred, 1, which.max)-1)   #  confusion matrix\n",
    "mean(mnist$train$y == apply(pred, 1, which.max)-1)  #  train accuracy"
   ]
  },
  {
   "cell_type": "markdown",
   "metadata": {},
   "source": [
    "### Test accuracy"
   ]
  },
  {
   "cell_type": "code",
   "execution_count": 44,
   "metadata": {},
   "outputs": [
    {
     "name": "stdout",
     "output_type": "stream",
     "text": [
      "List of 2\n",
      " $ train:List of 2\n",
      "  ..$ x: int [1:60000, 1:28, 1:28] 0 0 0 0 0 0 0 0 0 0 ...\n",
      "  ..$ y: int [1:60000(1d)] 5 0 4 1 9 2 1 3 1 4 ...\n",
      " $ test :List of 2\n",
      "  ..$ x: int [1:10000, 1:28, 1:28] 0 0 0 0 0 0 0 0 0 0 ...\n",
      "  ..$ y: int [1:10000(1d)] 7 2 1 0 4 1 4 9 5 9 ...\n"
     ]
    }
   ],
   "source": [
    "str(mnist)"
   ]
  },
  {
   "cell_type": "markdown",
   "metadata": {},
   "source": [
    "## $$ \\hat{Y} = A \\hat{\\beta} $$\n",
    "<center>A -- new data point(s) to be predicted</center>"
   ]
  },
  {
   "cell_type": "code",
   "execution_count": 45,
   "metadata": {},
   "outputs": [
    {
     "data": {
      "text/plain": [
       "   \n",
       "       0    1    2    3    4    5    6    7    8    9\n",
       "  0  944    0    1    2    2    7   14    2    7    1\n",
       "  1    0 1107    2    2    3    1    5    1   14    0\n",
       "  2   18   54  813   26   15    0   42   22   37    5\n",
       "  3    4   17   23  880    5   17    9   21   22   12\n",
       "  4    0   22    6    1  881    5   10    2   11   44\n",
       "  5   23   18    3   72   24  659   23   14   39   17\n",
       "  6   18   10    9    0   22   17  875    0    7    0\n",
       "  7    5   40   16    6   26    0    1  884    0   50\n",
       "  8   14   46   11   30   27   40   15   12  759   20\n",
       "  9   15   11    2   17   80    1    1   77    4  801"
      ]
     },
     "metadata": {},
     "output_type": "display_data"
    },
    {
     "data": {
      "text/html": [
       "0.8603"
      ],
      "text/latex": [
       "0.8603"
      ],
      "text/markdown": [
       "0.8603"
      ],
      "text/plain": [
       "[1] 0.8603"
      ]
     },
     "metadata": {},
     "output_type": "display_data"
    }
   ],
   "source": [
    "# redoing the same steps to calculate test error\n",
    "test1 <- array_reshape( mnist$test$x, c(dim(mnist$test$x)[1], 784) ) # reshaping\n",
    "test1 = cbind(matrix(rep(1, nrow(test1))), test1) # adding intercept\n",
    "pred = test1 %*% beta # predicting\n",
    "\n",
    "table(mnist$test$y, apply(pred, 1, which.max)-1)\n",
    "mean(mnist$test$y == apply(pred, 1, which.max)-1)"
   ]
  },
  {
   "cell_type": "markdown",
   "metadata": {},
   "source": [
    "## This file available in GitHub -- https://github.com/ajayhemanth/Its-all-about-Data"
   ]
  }
 ],
 "metadata": {
  "kernelspec": {
   "display_name": "R",
   "language": "R",
   "name": "ir"
  },
  "language_info": {
   "codemirror_mode": "r",
   "file_extension": ".r",
   "mimetype": "text/x-r-source",
   "name": "R",
   "pygments_lexer": "r",
   "version": "4.1.2"
  }
 },
 "nbformat": 4,
 "nbformat_minor": 4
}
